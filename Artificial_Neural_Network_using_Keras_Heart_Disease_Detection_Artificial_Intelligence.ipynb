{
  "nbformat": 4,
  "nbformat_minor": 0,
  "metadata": {
    "colab": {
      "name": "Artificial Neural Network using Keras - Heart Disease Detection - Artificial Intelligence.ipynb",
      "provenance": [],
      "collapsed_sections": []
    },
    "kernelspec": {
      "name": "python3",
      "display_name": "Python 3"
    },
    "accelerator": "GPU"
  },
  "cells": [
    {
      "cell_type": "markdown",
      "metadata": {
        "id": "z_i4sMZOC11K"
      },
      "source": [
        "# Initial Requirements to download"
      ]
    },
    {
      "cell_type": "code",
      "metadata": {
        "id": "nNF6l7snD6LR",
        "colab": {
          "base_uri": "https://localhost:8080/",
          "height": 153
        },
        "outputId": "8544dad5-81e3-4764-9682-8a21947b4a0e"
      },
      "source": [
        "!pip install keras"
      ],
      "execution_count": null,
      "outputs": [
        {
          "output_type": "stream",
          "text": [
            "Requirement already satisfied: keras in /usr/local/lib/python3.6/dist-packages (2.3.1)\n",
            "Requirement already satisfied: h5py in /usr/local/lib/python3.6/dist-packages (from keras) (2.10.0)\n",
            "Requirement already satisfied: keras-applications>=1.0.6 in /usr/local/lib/python3.6/dist-packages (from keras) (1.0.8)\n",
            "Requirement already satisfied: numpy>=1.9.1 in /usr/local/lib/python3.6/dist-packages (from keras) (1.18.4)\n",
            "Requirement already satisfied: keras-preprocessing>=1.0.5 in /usr/local/lib/python3.6/dist-packages (from keras) (1.1.2)\n",
            "Requirement already satisfied: pyyaml in /usr/local/lib/python3.6/dist-packages (from keras) (3.13)\n",
            "Requirement already satisfied: scipy>=0.14 in /usr/local/lib/python3.6/dist-packages (from keras) (1.4.1)\n",
            "Requirement already satisfied: six>=1.9.0 in /usr/local/lib/python3.6/dist-packages (from keras) (1.12.0)\n"
          ],
          "name": "stdout"
        }
      ]
    },
    {
      "cell_type": "code",
      "metadata": {
        "id": "V2Oc1NBnEANk",
        "colab": {
          "base_uri": "https://localhost:8080/",
          "height": 343
        },
        "outputId": "8e772065-caa9-486f-d11f-21dd5c34c6e9"
      },
      "source": [
        "!pip install -U scikit-learn #windows\n",
        "!pip install -U numpy scipy scikit-learn #mac"
      ],
      "execution_count": null,
      "outputs": [
        {
          "output_type": "stream",
          "text": [
            "Collecting scikit-learn\n",
            "\u001b[?25l  Downloading https://files.pythonhosted.org/packages/d9/3a/eb8d7bbe28f4787d140bb9df685b7d5bf6115c0e2a969def4027144e98b6/scikit_learn-0.23.1-cp36-cp36m-manylinux1_x86_64.whl (6.8MB)\n",
            "\u001b[K     |████████████████████████████████| 6.9MB 6.5MB/s \n",
            "\u001b[?25hCollecting threadpoolctl>=2.0.0\n",
            "  Downloading https://files.pythonhosted.org/packages/f7/12/ec3f2e203afa394a149911729357aa48affc59c20e2c1c8297a60f33f133/threadpoolctl-2.1.0-py3-none-any.whl\n",
            "Requirement already satisfied, skipping upgrade: scipy>=0.19.1 in /usr/local/lib/python3.6/dist-packages (from scikit-learn) (1.4.1)\n",
            "Requirement already satisfied, skipping upgrade: numpy>=1.13.3 in /usr/local/lib/python3.6/dist-packages (from scikit-learn) (1.18.4)\n",
            "Requirement already satisfied, skipping upgrade: joblib>=0.11 in /usr/local/lib/python3.6/dist-packages (from scikit-learn) (0.15.1)\n",
            "Installing collected packages: threadpoolctl, scikit-learn\n",
            "  Found existing installation: scikit-learn 0.22.2.post1\n",
            "    Uninstalling scikit-learn-0.22.2.post1:\n",
            "      Successfully uninstalled scikit-learn-0.22.2.post1\n",
            "Successfully installed scikit-learn-0.23.1 threadpoolctl-2.1.0\n",
            "Requirement already up-to-date: numpy in /usr/local/lib/python3.6/dist-packages (1.18.4)\n",
            "Requirement already up-to-date: scipy in /usr/local/lib/python3.6/dist-packages (1.4.1)\n",
            "Requirement already up-to-date: scikit-learn in /usr/local/lib/python3.6/dist-packages (0.23.1)\n",
            "Requirement already satisfied, skipping upgrade: joblib>=0.11 in /usr/local/lib/python3.6/dist-packages (from scikit-learn) (0.15.1)\n",
            "Requirement already satisfied, skipping upgrade: threadpoolctl>=2.0.0 in /usr/local/lib/python3.6/dist-packages (from scikit-learn) (2.1.0)\n"
          ],
          "name": "stdout"
        }
      ]
    },
    {
      "cell_type": "code",
      "metadata": {
        "id": "wVAU7ymAGUF5",
        "colab": {
          "base_uri": "https://localhost:8080/",
          "height": 204
        },
        "outputId": "28005bf6-8286-4feb-a5de-7c8375d4b509"
      },
      "source": [
        "!pip install seaborn"
      ],
      "execution_count": null,
      "outputs": [
        {
          "output_type": "stream",
          "text": [
            "Requirement already satisfied: seaborn in /usr/local/lib/python3.6/dist-packages (0.10.1)\n",
            "Requirement already satisfied: scipy>=1.0.1 in /usr/local/lib/python3.6/dist-packages (from seaborn) (1.4.1)\n",
            "Requirement already satisfied: numpy>=1.13.3 in /usr/local/lib/python3.6/dist-packages (from seaborn) (1.18.4)\n",
            "Requirement already satisfied: matplotlib>=2.1.2 in /usr/local/lib/python3.6/dist-packages (from seaborn) (3.2.1)\n",
            "Requirement already satisfied: pandas>=0.22.0 in /usr/local/lib/python3.6/dist-packages (from seaborn) (1.0.4)\n",
            "Requirement already satisfied: cycler>=0.10 in /usr/local/lib/python3.6/dist-packages (from matplotlib>=2.1.2->seaborn) (0.10.0)\n",
            "Requirement already satisfied: python-dateutil>=2.1 in /usr/local/lib/python3.6/dist-packages (from matplotlib>=2.1.2->seaborn) (2.8.1)\n",
            "Requirement already satisfied: kiwisolver>=1.0.1 in /usr/local/lib/python3.6/dist-packages (from matplotlib>=2.1.2->seaborn) (1.2.0)\n",
            "Requirement already satisfied: pyparsing!=2.0.4,!=2.1.2,!=2.1.6,>=2.0.1 in /usr/local/lib/python3.6/dist-packages (from matplotlib>=2.1.2->seaborn) (2.4.7)\n",
            "Requirement already satisfied: pytz>=2017.2 in /usr/local/lib/python3.6/dist-packages (from pandas>=0.22.0->seaborn) (2018.9)\n",
            "Requirement already satisfied: six in /usr/local/lib/python3.6/dist-packages (from cycler>=0.10->matplotlib>=2.1.2->seaborn) (1.12.0)\n"
          ],
          "name": "stdout"
        }
      ]
    },
    {
      "cell_type": "markdown",
      "metadata": {
        "id": "XVQ1wjvNFZhO"
      },
      "source": [
        "# Importing the Libraries"
      ]
    },
    {
      "cell_type": "code",
      "metadata": {
        "id": "eFETlMjc-YSy"
      },
      "source": [
        "import pandas as pd\n",
        "import numpy as np\n",
        "import matplotlib.pyplot as plt"
      ],
      "execution_count": null,
      "outputs": []
    },
    {
      "cell_type": "markdown",
      "metadata": {
        "id": "9e61DksNFGeJ"
      },
      "source": [
        "# Uploading The Dataset"
      ]
    },
    {
      "cell_type": "markdown",
      "metadata": {
        "id": "nq3lzat3FL2M"
      },
      "source": [
        "On google colab"
      ]
    },
    {
      "cell_type": "code",
      "metadata": {
        "id": "O4xcxdLlG8O8",
        "colab": {
          "resources": {
            "http://localhost:8080/nbextensions/google.colab/files.js": {
              "data": "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",
              "ok": true,
              "headers": [
                [
                  "content-type",
                  "application/javascript"
                ]
              ],
              "status": 200,
              "status_text": ""
            }
          },
          "base_uri": "https://localhost:8080/",
          "height": 71
        },
        "outputId": "19ba5d64-386f-4922-8bd9-a971fa1e61d4"
      },
      "source": [
        "from google.colab import files\n",
        "\n",
        "uploaded = files.upload()"
      ],
      "execution_count": null,
      "outputs": [
        {
          "output_type": "display_data",
          "data": {
            "text/html": [
              "\n",
              "     <input type=\"file\" id=\"files-40521700-c64e-4e5b-b1f9-0aaa870f1a8b\" name=\"files[]\" multiple disabled />\n",
              "     <output id=\"result-40521700-c64e-4e5b-b1f9-0aaa870f1a8b\">\n",
              "      Upload widget is only available when the cell has been executed in the\n",
              "      current browser session. Please rerun this cell to enable.\n",
              "      </output>\n",
              "      <script src=\"/nbextensions/google.colab/files.js\"></script> "
            ],
            "text/plain": [
              "<IPython.core.display.HTML object>"
            ]
          },
          "metadata": {
            "tags": []
          }
        },
        {
          "output_type": "stream",
          "text": [
            "Saving Cardio_Disease1.csv to Cardio_Disease1.csv\n"
          ],
          "name": "stdout"
        }
      ]
    },
    {
      "cell_type": "markdown",
      "metadata": {
        "id": "L7bPvXarFRv7"
      },
      "source": [
        "on Jupyter Notebook"
      ]
    },
    {
      "cell_type": "code",
      "metadata": {
        "id": "LPyRgSDPHSMc"
      },
      "source": [
        "#importing the dataset\n",
        "dataset = pd.read_csv('Cardio_Disease1.csv')\n",
        "X = dataset.iloc[:,1:12]\n",
        "y = dataset.iloc[:,12]"
      ],
      "execution_count": null,
      "outputs": []
    },
    {
      "cell_type": "markdown",
      "metadata": {
        "id": "87WxzfF4F7FA"
      },
      "source": [
        "## Dataset"
      ]
    },
    {
      "cell_type": "code",
      "metadata": {
        "id": "9r7EjvEIjUIa",
        "colab": {
          "base_uri": "https://localhost:8080/",
          "height": 204
        },
        "outputId": "1ddc07f9-f5dc-4332-c3e9-3916fb6ed9f0"
      },
      "source": [
        "dataset.head()"
      ],
      "execution_count": null,
      "outputs": [
        {
          "output_type": "execute_result",
          "data": {
            "text/html": [
              "<div>\n",
              "<style scoped>\n",
              "    .dataframe tbody tr th:only-of-type {\n",
              "        vertical-align: middle;\n",
              "    }\n",
              "\n",
              "    .dataframe tbody tr th {\n",
              "        vertical-align: top;\n",
              "    }\n",
              "\n",
              "    .dataframe thead th {\n",
              "        text-align: right;\n",
              "    }\n",
              "</style>\n",
              "<table border=\"1\" class=\"dataframe\">\n",
              "  <thead>\n",
              "    <tr style=\"text-align: right;\">\n",
              "      <th></th>\n",
              "      <th>id</th>\n",
              "      <th>age</th>\n",
              "      <th>gender</th>\n",
              "      <th>height</th>\n",
              "      <th>weight</th>\n",
              "      <th>ap_hi</th>\n",
              "      <th>ap_lo</th>\n",
              "      <th>cholesterol</th>\n",
              "      <th>gluc</th>\n",
              "      <th>smoke</th>\n",
              "      <th>alco</th>\n",
              "      <th>active</th>\n",
              "      <th>cardio</th>\n",
              "    </tr>\n",
              "  </thead>\n",
              "  <tbody>\n",
              "    <tr>\n",
              "      <th>0</th>\n",
              "      <td>0</td>\n",
              "      <td>18393</td>\n",
              "      <td>2</td>\n",
              "      <td>168</td>\n",
              "      <td>62.0</td>\n",
              "      <td>110</td>\n",
              "      <td>80</td>\n",
              "      <td>1</td>\n",
              "      <td>1</td>\n",
              "      <td>0</td>\n",
              "      <td>0</td>\n",
              "      <td>1</td>\n",
              "      <td>0</td>\n",
              "    </tr>\n",
              "    <tr>\n",
              "      <th>1</th>\n",
              "      <td>1</td>\n",
              "      <td>20228</td>\n",
              "      <td>1</td>\n",
              "      <td>156</td>\n",
              "      <td>85.0</td>\n",
              "      <td>140</td>\n",
              "      <td>90</td>\n",
              "      <td>3</td>\n",
              "      <td>1</td>\n",
              "      <td>0</td>\n",
              "      <td>0</td>\n",
              "      <td>1</td>\n",
              "      <td>1</td>\n",
              "    </tr>\n",
              "    <tr>\n",
              "      <th>2</th>\n",
              "      <td>2</td>\n",
              "      <td>18857</td>\n",
              "      <td>1</td>\n",
              "      <td>165</td>\n",
              "      <td>64.0</td>\n",
              "      <td>130</td>\n",
              "      <td>70</td>\n",
              "      <td>3</td>\n",
              "      <td>1</td>\n",
              "      <td>0</td>\n",
              "      <td>0</td>\n",
              "      <td>0</td>\n",
              "      <td>1</td>\n",
              "    </tr>\n",
              "    <tr>\n",
              "      <th>3</th>\n",
              "      <td>3</td>\n",
              "      <td>17623</td>\n",
              "      <td>2</td>\n",
              "      <td>169</td>\n",
              "      <td>82.0</td>\n",
              "      <td>150</td>\n",
              "      <td>100</td>\n",
              "      <td>1</td>\n",
              "      <td>1</td>\n",
              "      <td>0</td>\n",
              "      <td>0</td>\n",
              "      <td>1</td>\n",
              "      <td>1</td>\n",
              "    </tr>\n",
              "    <tr>\n",
              "      <th>4</th>\n",
              "      <td>4</td>\n",
              "      <td>17474</td>\n",
              "      <td>1</td>\n",
              "      <td>156</td>\n",
              "      <td>56.0</td>\n",
              "      <td>100</td>\n",
              "      <td>60</td>\n",
              "      <td>1</td>\n",
              "      <td>1</td>\n",
              "      <td>0</td>\n",
              "      <td>0</td>\n",
              "      <td>0</td>\n",
              "      <td>0</td>\n",
              "    </tr>\n",
              "  </tbody>\n",
              "</table>\n",
              "</div>"
            ],
            "text/plain": [
              "   id    age  gender  height  weight  ...  gluc  smoke  alco  active  cardio\n",
              "0   0  18393       2     168    62.0  ...     1      0     0       1       0\n",
              "1   1  20228       1     156    85.0  ...     1      0     0       1       1\n",
              "2   2  18857       1     165    64.0  ...     1      0     0       0       1\n",
              "3   3  17623       2     169    82.0  ...     1      0     0       1       1\n",
              "4   4  17474       1     156    56.0  ...     1      0     0       0       0\n",
              "\n",
              "[5 rows x 13 columns]"
            ]
          },
          "metadata": {
            "tags": []
          },
          "execution_count": 11
        }
      ]
    },
    {
      "cell_type": "code",
      "metadata": {
        "id": "1rdf0x9EH77m",
        "colab": {
          "base_uri": "https://localhost:8080/",
          "height": 357
        },
        "outputId": "4a73e259-f44b-46cd-cd43-e0b8674c074a"
      },
      "source": [
        "#Look for missing data in a dataset\n",
        "dataset.info()\n"
      ],
      "execution_count": null,
      "outputs": [
        {
          "output_type": "stream",
          "text": [
            "<class 'pandas.core.frame.DataFrame'>\n",
            "RangeIndex: 70000 entries, 0 to 69999\n",
            "Data columns (total 13 columns):\n",
            " #   Column       Non-Null Count  Dtype  \n",
            "---  ------       --------------  -----  \n",
            " 0   id           70000 non-null  int64  \n",
            " 1   age          70000 non-null  int64  \n",
            " 2   gender       70000 non-null  int64  \n",
            " 3   height       70000 non-null  int64  \n",
            " 4   weight       70000 non-null  float64\n",
            " 5   ap_hi        70000 non-null  int64  \n",
            " 6   ap_lo        70000 non-null  int64  \n",
            " 7   cholesterol  70000 non-null  int64  \n",
            " 8   gluc         70000 non-null  int64  \n",
            " 9   smoke        70000 non-null  int64  \n",
            " 10  alco         70000 non-null  int64  \n",
            " 11  active       70000 non-null  int64  \n",
            " 12  cardio       70000 non-null  int64  \n",
            "dtypes: float64(1), int64(12)\n",
            "memory usage: 6.9 MB\n"
          ],
          "name": "stdout"
        }
      ]
    },
    {
      "cell_type": "markdown",
      "metadata": {
        "id": "TSzmja8RGA9_"
      },
      "source": [
        "# Feature Selection using feature importance"
      ]
    },
    {
      "cell_type": "code",
      "metadata": {
        "id": "GmoBi8rCICN8",
        "colab": {
          "base_uri": "https://localhost:8080/",
          "height": 221
        },
        "outputId": "c2cd99c2-8267-4961-bfbf-256571894729"
      },
      "source": [
        "from sklearn.feature_selection import SelectKBest\n",
        "from sklearn.feature_selection import f_classif\n",
        "bestfeatures = SelectKBest(score_func=f_classif, k='all')\n",
        "fit = bestfeatures.fit(X,y)\n",
        "dfscores = pd.DataFrame(fit.scores_)\n",
        "dfcolumns = pd.DataFrame(X.columns)\n",
        "#concat two dataframes for better visualization \n",
        "featureScores = pd.concat([dfcolumns,dfscores],axis=1)\n",
        "featureScores.columns = ['Specs','Score']  #naming the dataframe columns\n",
        "print(featureScores.nlargest(11,'Score'))  \n",
        "\n",
        "\n"
      ],
      "execution_count": null,
      "outputs": [
        {
          "output_type": "stream",
          "text": [
            "          Specs        Score\n",
            "0           age  4209.007957\n",
            "6   cholesterol  3599.361137\n",
            "3        weight  2388.777887\n",
            "7          gluc   562.772977\n",
            "5         ap_lo   303.629011\n",
            "4         ap_hi   208.339524\n",
            "10       active    89.091494\n",
            "8         smoke    16.790541\n",
            "2        height     8.197397\n",
            "1        gender     4.603641\n",
            "9          alco     3.761355\n"
          ],
          "name": "stdout"
        }
      ]
    },
    {
      "cell_type": "code",
      "metadata": {
        "id": "95nJ59eKWdJ5",
        "colab": {
          "base_uri": "https://localhost:8080/",
          "height": 1000
        },
        "outputId": "494d380d-2b8b-4738-c477-ff4f90bd0a43"
      },
      "source": [
        "#get correlations of each features in dataset\n",
        "import seaborn as sns\n",
        "corrmat = dataset.corr()\n",
        "top_corr_features = corrmat.index\n",
        "plt.figure(figsize=(20,20))\n",
        "#plot heat map\n",
        "g=sns.heatmap(dataset[top_corr_features].corr(),annot=True,cmap=\"RdYlGn\")"
      ],
      "execution_count": null,
      "outputs": [
        {
          "output_type": "stream",
          "text": [
            "/usr/local/lib/python3.6/dist-packages/statsmodels/tools/_testing.py:19: FutureWarning: pandas.util.testing is deprecated. Use the functions in the public API at pandas.testing instead.\n",
            "  import pandas.util.testing as tm\n"
          ],
          "name": "stderr"
        },
        {
          "output_type": "display_data",
          "data": {
            "image/png": "[encoded data removed]",
            "text/plain": [
              "<Figure size 1440x1440 with 2 Axes>"
            ]
          },
          "metadata": {
            "tags": [],
            "needs_background": "light"
          }
        }
      ]
    },
    {
      "cell_type": "markdown",
      "metadata": {
        "id": "6_S73_bvGhot"
      },
      "source": [
        "#Handling the missing data"
      ]
    },
    {
      "cell_type": "code",
      "metadata": {
        "id": "rKS-utlYWeV4",
        "colab": {
          "base_uri": "https://localhost:8080/",
          "height": 54
        },
        "outputId": "00546b0f-f9bf-41bf-db6a-549a606b709b"
      },
      "source": [
        "\n",
        "\n",
        "\"\"\"from sklearn.impute import SimpleImputer\n",
        "imputer = SimpleImputer(missing_values= np.nan, strategy=\"mean\")\n",
        "imputer = imputer.fit(X)\n",
        "X = imputer.transform(X)\n",
        "\"\"\"\n",
        "\n",
        "\n"
      ],
      "execution_count": null,
      "outputs": [
        {
          "output_type": "execute_result",
          "data": {
            "text/plain": [
              "'from sklearn.impute import SimpleImputer\\nimputer = SimpleImputer(missing_values= np.nan, strategy=\"mean\")\\nimputer = imputer.fit(X)\\nX = imputer.transform(X)\\n'"
            ]
          },
          "metadata": {
            "tags": []
          },
          "execution_count": 8
        }
      ]
    },
    {
      "cell_type": "markdown",
      "metadata": {
        "id": "Xya1lNlhGl5i"
      },
      "source": [
        "As there is no missing value from the information of the dataset we are not using above code"
      ]
    },
    {
      "cell_type": "code",
      "metadata": {
        "id": "UbbR10pIWjtp"
      },
      "source": [
        "#Binary Encoding Gender Column\n",
        "from sklearn.preprocessing import LabelBinarizer\n",
        "labelbinarizer = LabelBinarizer()\n",
        "X.gender = labelbinarizer.fit_transform(X.gender)"
      ],
      "execution_count": null,
      "outputs": []
    },
    {
      "cell_type": "code",
      "metadata": {
        "id": "feClud5vWnlg"
      },
      "source": [
        "#Encoding Categorical Data\n",
        "from sklearn.preprocessing import OneHotEncoder\n",
        "from sklearn.compose import ColumnTransformer\n",
        "ct1 = ColumnTransformer(transformers = [(\"cholesterol\", OneHotEncoder(), [6])], remainder = 'passthrough')\n",
        "X = ct1.fit_transform(X)\n",
        "X = X[:,1:]\n",
        "ct2 = ColumnTransformer(transformers = [(\"gluc\", OneHotEncoder(), [8])], remainder = 'passthrough')\n",
        "X = ct2.fit_transform(X)\n",
        "X = X[:,1:]"
      ],
      "execution_count": null,
      "outputs": []
    },
    {
      "cell_type": "code",
      "metadata": {
        "id": "FCboReY6WpS4"
      },
      "source": [
        "\"\"\"Based on the analysis on the feature Selection techniques - We can further divide data\n",
        "into 3 Categories\n",
        "1. High Ranked Features - Important Features - Clinincal Data\n",
        "2. Low Important Features - Less importantn features - Rountine Data\n",
        "3. Original Data - Full Data\"\"\"\n",
        "\n",
        "\"\"\"#Clinincal data - Columns['age','weight', 'ap_hi', 'ap-lo','cholesterol','glusoce' ]\n",
        "X_H = X[:, [0,1,2,3,4,7,8,9]]\n",
        "\n",
        "#Daily Routine Data['gender', 'height', 'smoke', 'alcohol','active' ]\n",
        "X_L = X[:, [5,6,10,11,12]]\"\"\"\n",
        "\n",
        "#Target Data \n",
        "y = y.values #As, target data is same for all"
      ],
      "execution_count": null,
      "outputs": []
    },
    {
      "cell_type": "markdown",
      "metadata": {
        "id": "KvP45ceJHClJ"
      },
      "source": [
        "#splitting the dataset into training set and test set"
      ]
    },
    {
      "cell_type": "code",
      "metadata": {
        "id": "9seGOdbLWrzG"
      },
      "source": [
        "\n",
        "from sklearn.model_selection import train_test_split\n",
        "X_train, X_test, y_train, y_test = train_test_split(X, y, test_size = 0.2)"
      ],
      "execution_count": null,
      "outputs": []
    },
    {
      "cell_type": "markdown",
      "metadata": {
        "id": "IT0MxpXyHHIT"
      },
      "source": [
        "# Doing Feature scaling for the dataset"
      ]
    },
    {
      "cell_type": "code",
      "metadata": {
        "id": "RIz0SL1KWuK-"
      },
      "source": [
        "\n",
        "from sklearn.preprocessing import StandardScaler\n",
        "sc = StandardScaler()\n",
        "X_train = sc.fit_transform(X_train)\n",
        "X_test = sc.transform(X_test)"
      ],
      "execution_count": null,
      "outputs": []
    },
    {
      "cell_type": "markdown",
      "metadata": {
        "id": "IZ6DJlExG861"
      },
      "source": [
        "#Prinipal Compenent analaysis"
      ]
    },
    {
      "cell_type": "code",
      "metadata": {
        "id": "ogrbFJYNLMSc"
      },
      "source": [
        "\n",
        "from sklearn.decomposition import PCA\n",
        "pca =PCA(n_components = None)\n",
        "X_trainP = pca.fit_transform(X_train)\n",
        "X_testP = pca.transform(X_test)\n",
        "explained_variance = pca.explained_variance_ratio_\n"
      ],
      "execution_count": null,
      "outputs": []
    },
    {
      "cell_type": "code",
      "metadata": {
        "id": "sKENAksuNXcs",
        "colab": {
          "base_uri": "https://localhost:8080/",
          "height": 68
        },
        "outputId": "73335c58-68af-408e-c999-d93cfd1155e9"
      },
      "source": [
        "explained_variance"
      ],
      "execution_count": null,
      "outputs": [
        {
          "output_type": "execute_result",
          "data": {
            "text/plain": [
              "array([0.14930852, 0.12404418, 0.10113486, 0.0871239 , 0.07766534,\n",
              "       0.07603285, 0.07536975, 0.07129416, 0.06093501, 0.05705114,\n",
              "       0.04859332, 0.03714447, 0.03430249])"
            ]
          },
          "metadata": {
            "tags": []
          },
          "execution_count": 20
        }
      ]
    },
    {
      "cell_type": "code",
      "metadata": {
        "id": "OubtdxQ9OVpC"
      },
      "source": [
        "pca =PCA(n_components = 4)\n",
        "X_trainP = pca.fit_transform(X_train)\n",
        "X_testP = pca.transform(X_test)"
      ],
      "execution_count": null,
      "outputs": []
    },
    {
      "cell_type": "markdown",
      "metadata": {
        "id": "vQd4LhKjG56A"
      },
      "source": [
        "#Linear Discriminannt Analysis"
      ]
    },
    {
      "cell_type": "code",
      "metadata": {
        "id": "44Max4YLLMQr"
      },
      "source": [
        "\n",
        "from sklearn.discriminant_analysis import LinearDiscriminantAnalysis as LDA\n",
        "lda =LDA(n_components = 4)\n",
        "X_trainL = pca.fit_transform(X_train)\n",
        "X_testL = pca.transform(X_test)\n",
        "explained_variance = pca.explained_variance_ratio_"
      ],
      "execution_count": null,
      "outputs": []
    },
    {
      "cell_type": "markdown",
      "metadata": {
        "id": "5aBZID7JS7lf"
      },
      "source": [
        "# Logistic Regression"
      ]
    },
    {
      "cell_type": "code",
      "metadata": {
        "id": "LUF8bVkeLMMc",
        "colab": {
          "base_uri": "https://localhost:8080/",
          "height": 102
        },
        "outputId": "a2aede8c-452b-4fd2-9c26-619d80a8ec45"
      },
      "source": [
        "from sklearn.linear_model import LogisticRegression\n",
        "lr_classifier = LogisticRegression()\n",
        "lr_classifier.fit(X_train, y_train)\n",
        "\n"
      ],
      "execution_count": null,
      "outputs": [
        {
          "output_type": "execute_result",
          "data": {
            "text/plain": [
              "LogisticRegression(C=1.0, class_weight=None, dual=False, fit_intercept=True,\n",
              "                   intercept_scaling=1, l1_ratio=None, max_iter=100,\n",
              "                   multi_class='auto', n_jobs=None, penalty='l2',\n",
              "                   random_state=None, solver='lbfgs', tol=0.0001, verbose=0,\n",
              "                   warm_start=False)"
            ]
          },
          "metadata": {
            "tags": []
          },
          "execution_count": 13
        }
      ]
    },
    {
      "cell_type": "code",
      "metadata": {
        "id": "w4ExOiXlLMKv"
      },
      "source": [
        "y_predLR = lr_classifier.predict(X_test)"
      ],
      "execution_count": null,
      "outputs": []
    },
    {
      "cell_type": "code",
      "metadata": {
        "id": "EGap00cxLMHC",
        "colab": {
          "base_uri": "https://localhost:8080/",
          "height": 51
        },
        "outputId": "b269b8ce-0312-4ace-86ef-343c144dab4e"
      },
      "source": [
        "from sklearn.metrics import confusion_matrix\n",
        "cmLR = confusion_matrix(y_test, y_predLR)\n",
        "print(cmLR)"
      ],
      "execution_count": null,
      "outputs": [
        {
          "output_type": "stream",
          "text": [
            "[[5409 1560]\n",
            " [2275 4756]]\n"
          ],
          "name": "stdout"
        }
      ]
    },
    {
      "cell_type": "code",
      "metadata": {
        "id": "d0-wg19ILMEJ",
        "colab": {
          "base_uri": "https://localhost:8080/",
          "height": 34
        },
        "outputId": "712beeef-a000-47d6-c580-bca1f08fb9dc"
      },
      "source": [
        "accuracyLR = 100*(cmLR[0,0] + cmLR[1,1])/np.sum(cmLR)\n",
        "print(accuracyLR)"
      ],
      "execution_count": null,
      "outputs": [
        {
          "output_type": "stream",
          "text": [
            "72.60714285714286\n"
          ],
          "name": "stdout"
        }
      ]
    },
    {
      "cell_type": "markdown",
      "metadata": {
        "id": "dIo2ZlhPXuc_"
      },
      "source": [
        "# K - Nearest Neighbours"
      ]
    },
    {
      "cell_type": "code",
      "metadata": {
        "id": "QKNM2L3LTFNY",
        "colab": {
          "base_uri": "https://localhost:8080/",
          "height": 68
        },
        "outputId": "8c9561bc-f810-4db7-c1da-98aae2a159fd"
      },
      "source": [
        "from sklearn.neighbors import KNeighborsClassifier as KNC\n",
        "KNN_classifier = KNC(n_neighbors = 5, metric = 'minkowski', p=2) #distance metric is taken minikowski which with p=2 works as standard Euclidean Metric\n",
        "KNN_classifier.fit(X_train, y_train)\n",
        "\n"
      ],
      "execution_count": null,
      "outputs": [
        {
          "output_type": "execute_result",
          "data": {
            "text/plain": [
              "KNeighborsClassifier(algorithm='auto', leaf_size=30, metric='minkowski',\n",
              "                     metric_params=None, n_jobs=None, n_neighbors=5, p=2,\n",
              "                     weights='uniform')"
            ]
          },
          "metadata": {
            "tags": []
          },
          "execution_count": 21
        }
      ]
    },
    {
      "cell_type": "code",
      "metadata": {
        "id": "dBmMI4s_a4VY"
      },
      "source": [
        "y_predKNN = KNN_classifier.predict(X_test)"
      ],
      "execution_count": null,
      "outputs": []
    },
    {
      "cell_type": "code",
      "metadata": {
        "id": "xDuwxHQvLMAq",
        "colab": {
          "base_uri": "https://localhost:8080/",
          "height": 85
        },
        "outputId": "57aa8187-13f7-4a4c-d9fd-1d240deaf3c8"
      },
      "source": [
        "#Evaluation\n",
        "cmKNN = confusion_matrix(y_test, y_predKNN)\n",
        "print('this is confusion matrix KNN')\n",
        "print(cmKNN)\n",
        "accuracyKNN = 100*(cmKNN[0,0] + cmKNN[1,1])/np.sum(cmKNN)\n",
        "print('accuracy for KNN is ', accuracyKNN)"
      ],
      "execution_count": null,
      "outputs": [
        {
          "output_type": "stream",
          "text": [
            "this is confusion matrix KNN\n",
            "[[4709 2260]\n",
            " [2654 4377]]\n",
            "accuracy for KNN is  64.9\n"
          ],
          "name": "stdout"
        }
      ]
    },
    {
      "cell_type": "markdown",
      "metadata": {
        "id": "fmyRUBzvdzxz"
      },
      "source": [
        "# Naive Bayes"
      ]
    },
    {
      "cell_type": "code",
      "metadata": {
        "id": "voeBJ3ZgaBIu",
        "colab": {
          "base_uri": "https://localhost:8080/",
          "height": 34
        },
        "outputId": "4cf8806f-7c3c-4b34-d5d1-e6ddf1ec1eea"
      },
      "source": [
        "from sklearn.naive_bayes import GaussianNB\n",
        "NB_classifier = GaussianNB()\n",
        "NB_classifier.fit(X_train, y_train)"
      ],
      "execution_count": null,
      "outputs": [
        {
          "output_type": "execute_result",
          "data": {
            "text/plain": [
              "GaussianNB(priors=None, var_smoothing=1e-09)"
            ]
          },
          "metadata": {
            "tags": []
          },
          "execution_count": 26
        }
      ]
    },
    {
      "cell_type": "code",
      "metadata": {
        "id": "YNXQ4c7_aBGV"
      },
      "source": [
        "y_predNB = NB_classifier.predict(X_test)"
      ],
      "execution_count": null,
      "outputs": []
    },
    {
      "cell_type": "code",
      "metadata": {
        "id": "ltOhIEPGaBDr",
        "colab": {
          "base_uri": "https://localhost:8080/",
          "height": 85
        },
        "outputId": "0e8e2b65-ac4e-4b79-dcc0-c4bff7190ce3"
      },
      "source": [
        "#Evaluation\n",
        "cmNB = confusion_matrix(y_test, y_predNB)\n",
        "print('this is confusion matrix NB')\n",
        "print(cmNB)\n",
        "accuracyNB = 100*(cmNB[0,0] + cmNB[1,1])/np.sum(cmNB)\n",
        "print('accuracy for NB is ', accuracyNB)"
      ],
      "execution_count": null,
      "outputs": [
        {
          "output_type": "stream",
          "text": [
            "this is confusion matrix NB\n",
            "[[6037  932]\n",
            " [4862 2169]]\n",
            "accuracy for NB is  58.614285714285714\n"
          ],
          "name": "stdout"
        }
      ]
    },
    {
      "cell_type": "markdown",
      "metadata": {
        "id": "CMqXRA8Th_cE"
      },
      "source": [
        "# Decision Tree"
      ]
    },
    {
      "cell_type": "code",
      "metadata": {
        "id": "pz0tDVOXh_4q",
        "colab": {
          "base_uri": "https://localhost:8080/",
          "height": 119
        },
        "outputId": "35106d1f-01ab-4954-9645-09064e9edbe2"
      },
      "source": [
        "from sklearn.tree import DecisionTreeClassifier\n",
        "DT_classifier = DecisionTreeClassifier(criterion = 'entropy')\n",
        "DT_classifier.fit(X_train, y_train)"
      ],
      "execution_count": null,
      "outputs": [
        {
          "output_type": "execute_result",
          "data": {
            "text/plain": [
              "DecisionTreeClassifier(ccp_alpha=0.0, class_weight=None, criterion='entropy',\n",
              "                       max_depth=None, max_features=None, max_leaf_nodes=None,\n",
              "                       min_impurity_decrease=0.0, min_impurity_split=None,\n",
              "                       min_samples_leaf=1, min_samples_split=2,\n",
              "                       min_weight_fraction_leaf=0.0, presort='deprecated',\n",
              "                       random_state=None, splitter='best')"
            ]
          },
          "metadata": {
            "tags": []
          },
          "execution_count": 29
        }
      ]
    },
    {
      "cell_type": "code",
      "metadata": {
        "id": "W36FMvsmiA8k"
      },
      "source": [
        "y_predDT = DT_classifier.predict(X_test)"
      ],
      "execution_count": null,
      "outputs": []
    },
    {
      "cell_type": "code",
      "metadata": {
        "id": "kKtHtnzJiA5f",
        "colab": {
          "base_uri": "https://localhost:8080/",
          "height": 85
        },
        "outputId": "61a61d18-9c96-4687-b685-02be17baf472"
      },
      "source": [
        "#Evaluation\n",
        "cmDT = confusion_matrix(y_test, y_predDT)\n",
        "print('this is confusion matrix DT')\n",
        "print(cmDT)\n",
        "accuracyDT = 100*(cmDT[0,0] + cmDT[1,1])/np.sum(cmDT)\n",
        "print('accuracy for DT is ', accuracyDT)"
      ],
      "execution_count": null,
      "outputs": [
        {
          "output_type": "stream",
          "text": [
            "this is confusion matrix DT\n",
            "[[4444 2525]\n",
            " [2637 4394]]\n",
            "accuracy for DT is  63.128571428571426\n"
          ],
          "name": "stdout"
        }
      ]
    },
    {
      "cell_type": "markdown",
      "metadata": {
        "id": "yJFa3Vr0iC-S"
      },
      "source": [
        "# Random Forest"
      ]
    },
    {
      "cell_type": "code",
      "metadata": {
        "id": "zn67u4rPiA29",
        "colab": {
          "base_uri": "https://localhost:8080/",
          "height": 153
        },
        "outputId": "45cf3e79-9a24-487f-d56f-1063cbe2aa65"
      },
      "source": [
        "from sklearn.ensemble import RandomForestClassifier\n",
        "RF_classifier = RandomForestClassifier(n_estimators = 12, criterion = 'entropy')\n",
        "RF_classifier.fit(X_train, y_train)"
      ],
      "execution_count": null,
      "outputs": [
        {
          "output_type": "execute_result",
          "data": {
            "text/plain": [
              "RandomForestClassifier(bootstrap=True, ccp_alpha=0.0, class_weight=None,\n",
              "                       criterion='entropy', max_depth=None, max_features='auto',\n",
              "                       max_leaf_nodes=None, max_samples=None,\n",
              "                       min_impurity_decrease=0.0, min_impurity_split=None,\n",
              "                       min_samples_leaf=1, min_samples_split=2,\n",
              "                       min_weight_fraction_leaf=0.0, n_estimators=12,\n",
              "                       n_jobs=None, oob_score=False, random_state=None,\n",
              "                       verbose=0, warm_start=False)"
            ]
          },
          "metadata": {
            "tags": []
          },
          "execution_count": 32
        }
      ]
    },
    {
      "cell_type": "code",
      "metadata": {
        "id": "G1x8ywSuiA0N"
      },
      "source": [
        "y_predRF = RF_classifier.predict(X_test)"
      ],
      "execution_count": null,
      "outputs": []
    },
    {
      "cell_type": "code",
      "metadata": {
        "id": "_pDxtlVOiAv-",
        "colab": {
          "base_uri": "https://localhost:8080/",
          "height": 85
        },
        "outputId": "e2d92580-0a45-482b-c0e8-f6c19928e6f5"
      },
      "source": [
        "#Evaluation\n",
        "cmRF = confusion_matrix(y_test, y_predRF)\n",
        "print('this is confusion matrix RF')\n",
        "print(cmRF)\n",
        "accuracyRF = 100*(cmRF[0,0] + cmRF[1,1])/np.sum(cmRF)\n",
        "print('accuracy for RF is ', accuracyRF)"
      ],
      "execution_count": null,
      "outputs": [
        {
          "output_type": "stream",
          "text": [
            "this is confusion matrix RF\n",
            "[[5139 1830]\n",
            " [2377 4654]]\n",
            "accuracy for RF is  69.95\n"
          ],
          "name": "stdout"
        }
      ]
    },
    {
      "cell_type": "markdown",
      "metadata": {
        "id": "5R96oD_i8eHb"
      },
      "source": [
        "# Artificial Neural Network"
      ]
    },
    {
      "cell_type": "code",
      "metadata": {
        "id": "v_hAHbu9WvxN",
        "colab": {
          "base_uri": "https://localhost:8080/",
          "height": 34
        },
        "outputId": "4d459987-0f2e-4f1a-d6f1-436d2de6ecab"
      },
      "source": [
        "# Importing the Keras libraries and packages\n",
        "import keras\n",
        "from keras.models import Sequential\n",
        "from keras.layers import Dense\n"
      ],
      "execution_count": null,
      "outputs": [
        {
          "output_type": "stream",
          "text": [
            "Using TensorFlow backend.\n"
          ],
          "name": "stderr"
        }
      ]
    },
    {
      "cell_type": "code",
      "metadata": {
        "id": "tbMm4PyCW1wZ"
      },
      "source": [
        "# Initialising the ANN\n",
        "classifier = Sequential()\n",
        "\n",
        "# Adding the input layer and the first hidden layer\n",
        "classifier.add(Dense(units = 10, kernel_initializer = 'uniform', activation = 'relu', input_dim = 13))\n",
        "\n",
        "# Adding the second hidden layer\n",
        "classifier.add(Dense(units = 10, kernel_initializer = 'uniform', activation = 'relu'))\n",
        "\n",
        "# Adding the second hidden layer\n",
        "classifier.add(Dense(units = 10, kernel_initializer = 'uniform', activation = 'relu'))\n",
        "\n",
        "# Adding the output layer\n",
        "classifier.add(Dense(units = 1, kernel_initializer = 'uniform', activation = 'sigmoid'))\n",
        "\n",
        "# Compiling the ANN\n",
        "classifier.compile(optimizer = 'adam', loss = 'binary_crossentropy', metrics = ['accuracy'])\n"
      ],
      "execution_count": null,
      "outputs": []
    },
    {
      "cell_type": "code",
      "metadata": {
        "id": "dngbfsCF6Ih4",
        "colab": {
          "base_uri": "https://localhost:8080/",
          "height": 289
        },
        "outputId": "f9d618f5-e84d-4d8c-8f9e-d9a4a2e51255"
      },
      "source": [
        "classifier.summary()"
      ],
      "execution_count": null,
      "outputs": [
        {
          "output_type": "stream",
          "text": [
            "Model: \"sequential_1\"\n",
            "_________________________________________________________________\n",
            "Layer (type)                 Output Shape              Param #   \n",
            "=================================================================\n",
            "dense_1 (Dense)              (None, 10)                140       \n",
            "_________________________________________________________________\n",
            "dense_2 (Dense)              (None, 10)                110       \n",
            "_________________________________________________________________\n",
            "dense_3 (Dense)              (None, 10)                110       \n",
            "_________________________________________________________________\n",
            "dense_4 (Dense)              (None, 1)                 11        \n",
            "=================================================================\n",
            "Total params: 371\n",
            "Trainable params: 371\n",
            "Non-trainable params: 0\n",
            "_________________________________________________________________\n"
          ],
          "name": "stdout"
        }
      ]
    },
    {
      "cell_type": "markdown",
      "metadata": {
        "id": "liyfHNHjHVn8"
      },
      "source": [
        "### Fitting the ANN to the Training set"
      ]
    },
    {
      "cell_type": "code",
      "metadata": {
        "id": "GdUxH9adW2ig",
        "colab": {
          "base_uri": "https://localhost:8080/",
          "height": 1000
        },
        "outputId": "bf6b055d-2ebc-4652-f205-75d366618263"
      },
      "source": [
        "\n",
        "history = classifier.fit(X_train, y_train, batch_size = 28, epochs = 50, validation_split=0.1)"
      ],
      "execution_count": null,
      "outputs": [
        {
          "output_type": "stream",
          "text": [
            "Train on 50400 samples, validate on 5600 samples\n",
            "Epoch 1/50\n",
            "50400/50400 [==============================] - 9s 186us/step - loss: 0.5969 - accuracy: 0.6932 - val_loss: 0.6032 - val_accuracy: 0.7264\n",
            "Epoch 2/50\n",
            "50400/50400 [==============================] - 8s 152us/step - loss: 0.5631 - accuracy: 0.7277 - val_loss: 0.5945 - val_accuracy: 0.7266\n",
            "Epoch 3/50\n",
            "50400/50400 [==============================] - 8s 152us/step - loss: 0.5589 - accuracy: 0.7312 - val_loss: 0.5937 - val_accuracy: 0.7287\n",
            "Epoch 4/50\n",
            "50400/50400 [==============================] - 8s 154us/step - loss: 0.5570 - accuracy: 0.7306 - val_loss: 0.5869 - val_accuracy: 0.7275\n",
            "Epoch 5/50\n",
            "50400/50400 [==============================] - 8s 153us/step - loss: 0.5548 - accuracy: 0.7310 - val_loss: 0.5825 - val_accuracy: 0.7275\n",
            "Epoch 6/50\n",
            "50400/50400 [==============================] - 8s 154us/step - loss: 0.5531 - accuracy: 0.7325 - val_loss: 0.5767 - val_accuracy: 0.7275\n",
            "Epoch 7/50\n",
            "50400/50400 [==============================] - 8s 153us/step - loss: 0.5508 - accuracy: 0.7319 - val_loss: 0.5714 - val_accuracy: 0.7282\n",
            "Epoch 8/50\n",
            "50400/50400 [==============================] - 8s 153us/step - loss: 0.5491 - accuracy: 0.7314 - val_loss: 0.5649 - val_accuracy: 0.7275\n",
            "Epoch 9/50\n",
            "50400/50400 [==============================] - 8s 153us/step - loss: 0.5473 - accuracy: 0.7322 - val_loss: 0.5612 - val_accuracy: 0.7291\n",
            "Epoch 10/50\n",
            "50400/50400 [==============================] - 8s 153us/step - loss: 0.5457 - accuracy: 0.7317 - val_loss: 0.5579 - val_accuracy: 0.7320\n",
            "Epoch 11/50\n",
            "50400/50400 [==============================] - 8s 153us/step - loss: 0.5450 - accuracy: 0.7325 - val_loss: 0.5563 - val_accuracy: 0.7275\n",
            "Epoch 12/50\n",
            "50400/50400 [==============================] - 8s 154us/step - loss: 0.5440 - accuracy: 0.7325 - val_loss: 0.5526 - val_accuracy: 0.7312\n",
            "Epoch 13/50\n",
            "50400/50400 [==============================] - 8s 153us/step - loss: 0.5432 - accuracy: 0.7325 - val_loss: 0.5542 - val_accuracy: 0.7293\n",
            "Epoch 14/50\n",
            "50400/50400 [==============================] - 8s 153us/step - loss: 0.5430 - accuracy: 0.7331 - val_loss: 0.5530 - val_accuracy: 0.7305\n",
            "Epoch 15/50\n",
            "50400/50400 [==============================] - 8s 153us/step - loss: 0.5429 - accuracy: 0.7329 - val_loss: 0.5508 - val_accuracy: 0.7295\n",
            "Epoch 16/50\n",
            "50400/50400 [==============================] - 8s 154us/step - loss: 0.5423 - accuracy: 0.7334 - val_loss: 0.5517 - val_accuracy: 0.7282\n",
            "Epoch 17/50\n",
            "50400/50400 [==============================] - 8s 154us/step - loss: 0.5420 - accuracy: 0.7333 - val_loss: 0.5519 - val_accuracy: 0.7286\n",
            "Epoch 18/50\n",
            "50400/50400 [==============================] - 8s 152us/step - loss: 0.5418 - accuracy: 0.7330 - val_loss: 0.5516 - val_accuracy: 0.7300\n",
            "Epoch 19/50\n",
            "50400/50400 [==============================] - 8s 157us/step - loss: 0.5418 - accuracy: 0.7330 - val_loss: 0.5519 - val_accuracy: 0.7279\n",
            "Epoch 20/50\n",
            "50400/50400 [==============================] - 8s 156us/step - loss: 0.5415 - accuracy: 0.7331 - val_loss: 0.5534 - val_accuracy: 0.7264\n",
            "Epoch 21/50\n",
            "50400/50400 [==============================] - 8s 153us/step - loss: 0.5415 - accuracy: 0.7351 - val_loss: 0.5532 - val_accuracy: 0.7296\n",
            "Epoch 22/50\n",
            "50400/50400 [==============================] - 8s 152us/step - loss: 0.5413 - accuracy: 0.7338 - val_loss: 0.5521 - val_accuracy: 0.7302\n",
            "Epoch 23/50\n",
            "50400/50400 [==============================] - 8s 153us/step - loss: 0.5411 - accuracy: 0.7337 - val_loss: 0.5508 - val_accuracy: 0.7270\n",
            "Epoch 24/50\n",
            "50400/50400 [==============================] - 8s 152us/step - loss: 0.5407 - accuracy: 0.7346 - val_loss: 0.5513 - val_accuracy: 0.7277\n",
            "Epoch 25/50\n",
            "50400/50400 [==============================] - 8s 152us/step - loss: 0.5408 - accuracy: 0.7345 - val_loss: 0.5511 - val_accuracy: 0.7264\n",
            "Epoch 26/50\n",
            "50400/50400 [==============================] - 8s 152us/step - loss: 0.5404 - accuracy: 0.7341 - val_loss: 0.5537 - val_accuracy: 0.7271\n",
            "Epoch 27/50\n",
            "50400/50400 [==============================] - 8s 153us/step - loss: 0.5407 - accuracy: 0.7347 - val_loss: 0.5502 - val_accuracy: 0.7305\n",
            "Epoch 28/50\n",
            "50400/50400 [==============================] - 8s 153us/step - loss: 0.5403 - accuracy: 0.7346 - val_loss: 0.5507 - val_accuracy: 0.7266\n",
            "Epoch 29/50\n",
            "50400/50400 [==============================] - 8s 152us/step - loss: 0.5406 - accuracy: 0.7350 - val_loss: 0.5521 - val_accuracy: 0.7314\n",
            "Epoch 30/50\n",
            "50400/50400 [==============================] - 8s 152us/step - loss: 0.5403 - accuracy: 0.7348 - val_loss: 0.5533 - val_accuracy: 0.7259\n",
            "Epoch 31/50\n",
            "50400/50400 [==============================] - 8s 153us/step - loss: 0.5406 - accuracy: 0.7347 - val_loss: 0.5512 - val_accuracy: 0.7282\n",
            "Epoch 32/50\n",
            "50400/50400 [==============================] - 8s 152us/step - loss: 0.5406 - accuracy: 0.7348 - val_loss: 0.5498 - val_accuracy: 0.7302\n",
            "Epoch 33/50\n",
            "50400/50400 [==============================] - 8s 153us/step - loss: 0.5403 - accuracy: 0.7338 - val_loss: 0.5510 - val_accuracy: 0.7298\n",
            "Epoch 34/50\n",
            "50400/50400 [==============================] - 8s 153us/step - loss: 0.5401 - accuracy: 0.7347 - val_loss: 0.5516 - val_accuracy: 0.7282\n",
            "Epoch 35/50\n",
            "50400/50400 [==============================] - 8s 153us/step - loss: 0.5400 - accuracy: 0.7356 - val_loss: 0.5526 - val_accuracy: 0.7277\n",
            "Epoch 36/50\n",
            "50400/50400 [==============================] - 8s 153us/step - loss: 0.5398 - accuracy: 0.7352 - val_loss: 0.5512 - val_accuracy: 0.7277\n",
            "Epoch 37/50\n",
            "50400/50400 [==============================] - 8s 151us/step - loss: 0.5401 - accuracy: 0.7348 - val_loss: 0.5514 - val_accuracy: 0.7270\n",
            "Epoch 38/50\n",
            "50400/50400 [==============================] - 8s 164us/step - loss: 0.5398 - accuracy: 0.7345 - val_loss: 0.5516 - val_accuracy: 0.7282\n",
            "Epoch 39/50\n",
            "50400/50400 [==============================] - 8s 158us/step - loss: 0.5396 - accuracy: 0.7355 - val_loss: 0.5501 - val_accuracy: 0.7295\n",
            "Epoch 40/50\n",
            "50400/50400 [==============================] - 8s 153us/step - loss: 0.5394 - accuracy: 0.7362 - val_loss: 0.5506 - val_accuracy: 0.7284\n",
            "Epoch 41/50\n",
            "50400/50400 [==============================] - 8s 152us/step - loss: 0.5395 - accuracy: 0.7356 - val_loss: 0.5507 - val_accuracy: 0.7293\n",
            "Epoch 42/50\n",
            "50400/50400 [==============================] - 8s 154us/step - loss: 0.5395 - accuracy: 0.7361 - val_loss: 0.5498 - val_accuracy: 0.7323\n",
            "Epoch 43/50\n",
            "50400/50400 [==============================] - 8s 153us/step - loss: 0.5392 - accuracy: 0.7355 - val_loss: 0.5520 - val_accuracy: 0.7302\n",
            "Epoch 44/50\n",
            "50400/50400 [==============================] - 8s 153us/step - loss: 0.5392 - accuracy: 0.7354 - val_loss: 0.5507 - val_accuracy: 0.7271\n",
            "Epoch 45/50\n",
            "50400/50400 [==============================] - 8s 153us/step - loss: 0.5392 - accuracy: 0.7360 - val_loss: 0.5510 - val_accuracy: 0.7266\n",
            "Epoch 46/50\n",
            "50400/50400 [==============================] - 8s 153us/step - loss: 0.5391 - accuracy: 0.7364 - val_loss: 0.5507 - val_accuracy: 0.7287\n",
            "Epoch 47/50\n",
            "50400/50400 [==============================] - 8s 153us/step - loss: 0.5388 - accuracy: 0.7358 - val_loss: 0.5512 - val_accuracy: 0.7314\n",
            "Epoch 48/50\n",
            "50400/50400 [==============================] - 8s 152us/step - loss: 0.5391 - accuracy: 0.7357 - val_loss: 0.5515 - val_accuracy: 0.7286\n",
            "Epoch 49/50\n",
            "50400/50400 [==============================] - 8s 152us/step - loss: 0.5391 - accuracy: 0.7356 - val_loss: 0.5504 - val_accuracy: 0.7300\n",
            "Epoch 50/50\n",
            "50400/50400 [==============================] - 8s 152us/step - loss: 0.5391 - accuracy: 0.7345 - val_loss: 0.5517 - val_accuracy: 0.7279\n"
          ],
          "name": "stdout"
        }
      ]
    },
    {
      "cell_type": "markdown",
      "metadata": {
        "id": "aOWCEbdBHoj8"
      },
      "source": [
        "#Making the predictions and evaluating the model"
      ]
    },
    {
      "cell_type": "markdown",
      "metadata": {
        "id": "lOMUiz7_HtS3"
      },
      "source": [
        "Predicting the Test set results"
      ]
    },
    {
      "cell_type": "code",
      "metadata": {
        "id": "o2Fwu85sW4VO"
      },
      "source": [
        "y_pred = classifier.predict(X_test)\n",
        "y_pred = (y_pred > 0.5)\n"
      ],
      "execution_count": null,
      "outputs": []
    },
    {
      "cell_type": "code",
      "metadata": {
        "id": "ximjcax-W6_E"
      },
      "source": [
        "# Making the Confusion Matrix\n",
        "from sklearn.metrics import confusion_matrix\n",
        "cm = confusion_matrix(y_test, y_pred)\n"
      ],
      "execution_count": null,
      "outputs": []
    },
    {
      "cell_type": "code",
      "metadata": {
        "id": "fz37tPo481AS",
        "colab": {
          "base_uri": "https://localhost:8080/",
          "height": 51
        },
        "outputId": "08b244a9-43f1-4da8-fa6f-7dc50abd1f2f"
      },
      "source": [
        "cm"
      ],
      "execution_count": null,
      "outputs": [
        {
          "output_type": "execute_result",
          "data": {
            "text/plain": [
              "array([[5353, 1678],\n",
              "       [2009, 4960]])"
            ]
          },
          "metadata": {
            "tags": []
          },
          "execution_count": 33
        }
      ]
    },
    {
      "cell_type": "code",
      "metadata": {
        "id": "1FpPwnumBIyI",
        "colab": {
          "base_uri": "https://localhost:8080/",
          "height": 34
        },
        "outputId": "7e515b0c-71b5-4d2b-832a-a424287ea6b6"
      },
      "source": [
        "accuracy = 100*(cm[0,0] + cm[1,1])/np.sum(cm)\n",
        "print('accuracy for NN is ', accuracy)"
      ],
      "execution_count": null,
      "outputs": [
        {
          "output_type": "stream",
          "text": [
            "accuracy for NN is  73.66428571428571\n"
          ],
          "name": "stdout"
        }
      ]
    },
    {
      "cell_type": "code",
      "metadata": {
        "id": "6MQdHreH63lR",
        "colab": {
          "base_uri": "https://localhost:8080/",
          "height": 295
        },
        "outputId": "07ffc865-4532-4b5f-eea5-56d260532de3"
      },
      "source": [
        "plt.plot(history.history['accuracy'])\n",
        "plt.plot(history.history['val_accuracy'])\n",
        "plt.title('Neural Network Accuracy')\n",
        "plt.ylabel('accuracy')\n",
        "plt.xlabel('epoch')\n",
        "plt.legend(['accuracy', 'val_accuracy'], loc = 'upper left')\n",
        "plt.show()"
      ],
      "execution_count": null,
      "outputs": [
        {
          "output_type": "display_data",
          "data": {
            "image/png": "[encoded data removed]",
            "text/plain": [
              "<Figure size 432x288 with 1 Axes>"
            ]
          },
          "metadata": {
            "tags": [],
            "needs_background": "light"
          }
        }
      ]
    },
    {
      "cell_type": "code",
      "metadata": {
        "id": "RnqABhGA7YTt",
        "colab": {
          "base_uri": "https://localhost:8080/",
          "height": 295
        },
        "outputId": "0ee4504e-a568-409c-dc5b-b8d6844e0b00"
      },
      "source": [
        "plt.plot(history.history['loss'])\n",
        "plt.plot(history.history['val_loss'])\n",
        "plt.title('Neural Network loss')\n",
        "plt.ylabel('loss')\n",
        "plt.xlabel('epoch')\n",
        "plt.legend(['loss', 'val_loss'], loc = 'upper left')\n",
        "plt.show()"
      ],
      "execution_count": null,
      "outputs": [
        {
          "output_type": "display_data",
          "data": {
            "image/png": "[encoded data removed]",
            "text/plain": [
              "<Figure size 432x288 with 1 Axes>"
            ]
          },
          "metadata": {
            "tags": [],
            "needs_background": "light"
          }
        }
      ]
    },
    {
      "cell_type": "markdown",
      "metadata": {
        "id": "yCrMml-myJHb"
      },
      "source": [
        "# Neural Network for application of PCA & LDA"
      ]
    },
    {
      "cell_type": "code",
      "metadata": {
        "id": "g-aHsq0gyCpl"
      },
      "source": [
        "# Initialising the ANN\n",
        "classifier = Sequential()\n",
        "\n",
        "# Adding the input layer and the first hidden layer\n",
        "classifier.add(Dense(units = 10, kernel_initializer = 'uniform', activation = 'relu', input_dim = 4))\n",
        "\n",
        "# Adding the second hidden layer\n",
        "classifier.add(Dense(units = 10, kernel_initializer = 'uniform', activation = 'relu'))\n",
        "\n",
        "# Adding the second hidden layer\n",
        "classifier.add(Dense(units = 10, kernel_initializer = 'uniform', activation = 'relu'))\n",
        "\n",
        "# Adding the output layer\n",
        "classifier.add(Dense(units = 1, kernel_initializer = 'uniform', activation = 'sigmoid'))\n",
        "\n",
        "# Compiling the ANN\n",
        "classifier.compile(optimizer = 'adam', loss = 'binary_crossentropy', metrics = ['accuracy'])\n"
      ],
      "execution_count": null,
      "outputs": []
    },
    {
      "cell_type": "code",
      "metadata": {
        "id": "YZM1rRYoyvUb",
        "colab": {
          "base_uri": "https://localhost:8080/",
          "height": 1000
        },
        "outputId": "80409769-f6a0-4537-bae0-7f0b63e0400e"
      },
      "source": [
        "# Fitting the ANN with LDA to the Training set\n",
        "history = classifier.fit(X_trainL, y_train, batch_size = 28, epochs = 50, validation_split=0.1)"
      ],
      "execution_count": null,
      "outputs": [
        {
          "output_type": "stream",
          "text": [
            "Train on 50400 samples, validate on 5600 samples\n",
            "Epoch 1/50\n",
            "50400/50400 [==============================] - 8s 163us/step - loss: 0.6422 - accuracy: 0.6333 - val_loss: 0.6401 - val_accuracy: 0.6439\n",
            "Epoch 2/50\n",
            "50400/50400 [==============================] - 8s 157us/step - loss: 0.6336 - accuracy: 0.6432 - val_loss: 0.6379 - val_accuracy: 0.6418\n",
            "Epoch 3/50\n",
            "50400/50400 [==============================] - 8s 159us/step - loss: 0.6326 - accuracy: 0.6446 - val_loss: 0.6365 - val_accuracy: 0.6438\n",
            "Epoch 4/50\n",
            "50400/50400 [==============================] - 8s 153us/step - loss: 0.6323 - accuracy: 0.6435 - val_loss: 0.6365 - val_accuracy: 0.6432\n",
            "Epoch 5/50\n",
            "50400/50400 [==============================] - 8s 154us/step - loss: 0.6321 - accuracy: 0.6429 - val_loss: 0.6365 - val_accuracy: 0.6434\n",
            "Epoch 6/50\n",
            "50400/50400 [==============================] - 8s 155us/step - loss: 0.6319 - accuracy: 0.6445 - val_loss: 0.6369 - val_accuracy: 0.6389\n",
            "Epoch 7/50\n",
            "50400/50400 [==============================] - 8s 155us/step - loss: 0.6319 - accuracy: 0.6452 - val_loss: 0.6371 - val_accuracy: 0.6457\n",
            "Epoch 8/50\n",
            "50400/50400 [==============================] - 8s 154us/step - loss: 0.6315 - accuracy: 0.6448 - val_loss: 0.6368 - val_accuracy: 0.6471\n",
            "Epoch 9/50\n",
            "50400/50400 [==============================] - 8s 157us/step - loss: 0.6314 - accuracy: 0.6444 - val_loss: 0.6360 - val_accuracy: 0.6439\n",
            "Epoch 10/50\n",
            "50400/50400 [==============================] - 8s 164us/step - loss: 0.6313 - accuracy: 0.6447 - val_loss: 0.6358 - val_accuracy: 0.6463\n",
            "Epoch 11/50\n",
            "50400/50400 [==============================] - 8s 156us/step - loss: 0.6313 - accuracy: 0.6451 - val_loss: 0.6353 - val_accuracy: 0.6398\n",
            "Epoch 12/50\n",
            "50400/50400 [==============================] - 8s 158us/step - loss: 0.6311 - accuracy: 0.6430 - val_loss: 0.6367 - val_accuracy: 0.6429\n",
            "Epoch 13/50\n",
            "50400/50400 [==============================] - 8s 155us/step - loss: 0.6310 - accuracy: 0.6452 - val_loss: 0.6354 - val_accuracy: 0.6470\n",
            "Epoch 14/50\n",
            "50400/50400 [==============================] - 8s 155us/step - loss: 0.6308 - accuracy: 0.6452 - val_loss: 0.6344 - val_accuracy: 0.6457\n",
            "Epoch 15/50\n",
            "50400/50400 [==============================] - 8s 157us/step - loss: 0.6310 - accuracy: 0.6445 - val_loss: 0.6346 - val_accuracy: 0.6455\n",
            "Epoch 16/50\n",
            "50400/50400 [==============================] - 8s 157us/step - loss: 0.6308 - accuracy: 0.6450 - val_loss: 0.6368 - val_accuracy: 0.6448\n",
            "Epoch 17/50\n",
            "50400/50400 [==============================] - 8s 156us/step - loss: 0.6306 - accuracy: 0.6447 - val_loss: 0.6342 - val_accuracy: 0.6448\n",
            "Epoch 18/50\n",
            "50400/50400 [==============================] - 8s 155us/step - loss: 0.6307 - accuracy: 0.6440 - val_loss: 0.6337 - val_accuracy: 0.6461\n",
            "Epoch 19/50\n",
            "50400/50400 [==============================] - 8s 156us/step - loss: 0.6306 - accuracy: 0.6448 - val_loss: 0.6358 - val_accuracy: 0.6429\n",
            "Epoch 20/50\n",
            "50400/50400 [==============================] - 8s 155us/step - loss: 0.6305 - accuracy: 0.6444 - val_loss: 0.6346 - val_accuracy: 0.6482\n",
            "Epoch 21/50\n",
            "50400/50400 [==============================] - 8s 157us/step - loss: 0.6303 - accuracy: 0.6460 - val_loss: 0.6337 - val_accuracy: 0.6475\n",
            "Epoch 22/50\n",
            "50400/50400 [==============================] - 8s 157us/step - loss: 0.6304 - accuracy: 0.6450 - val_loss: 0.6339 - val_accuracy: 0.6445\n",
            "Epoch 23/50\n",
            "50400/50400 [==============================] - 8s 156us/step - loss: 0.6301 - accuracy: 0.6446 - val_loss: 0.6332 - val_accuracy: 0.6438\n",
            "Epoch 24/50\n",
            "50400/50400 [==============================] - 8s 158us/step - loss: 0.6299 - accuracy: 0.6456 - val_loss: 0.6331 - val_accuracy: 0.6446\n",
            "Epoch 25/50\n",
            "50400/50400 [==============================] - 8s 160us/step - loss: 0.6301 - accuracy: 0.6446 - val_loss: 0.6336 - val_accuracy: 0.6464\n",
            "Epoch 26/50\n",
            "50400/50400 [==============================] - 8s 156us/step - loss: 0.6300 - accuracy: 0.6449 - val_loss: 0.6338 - val_accuracy: 0.6455\n",
            "Epoch 27/50\n",
            "50400/50400 [==============================] - 8s 161us/step - loss: 0.6300 - accuracy: 0.6447 - val_loss: 0.6329 - val_accuracy: 0.6436\n",
            "Epoch 28/50\n",
            "50400/50400 [==============================] - 8s 155us/step - loss: 0.6297 - accuracy: 0.6453 - val_loss: 0.6328 - val_accuracy: 0.6432\n",
            "Epoch 29/50\n",
            "50400/50400 [==============================] - 8s 159us/step - loss: 0.6298 - accuracy: 0.6457 - val_loss: 0.6325 - val_accuracy: 0.6423\n",
            "Epoch 30/50\n",
            "50400/50400 [==============================] - 8s 168us/step - loss: 0.6296 - accuracy: 0.6453 - val_loss: 0.6334 - val_accuracy: 0.6427\n",
            "Epoch 31/50\n",
            "50400/50400 [==============================] - 8s 158us/step - loss: 0.6296 - accuracy: 0.6462 - val_loss: 0.6337 - val_accuracy: 0.6454\n",
            "Epoch 32/50\n",
            "50400/50400 [==============================] - 8s 156us/step - loss: 0.6294 - accuracy: 0.6453 - val_loss: 0.6333 - val_accuracy: 0.6473\n",
            "Epoch 33/50\n",
            "50400/50400 [==============================] - 8s 156us/step - loss: 0.6293 - accuracy: 0.6448 - val_loss: 0.6333 - val_accuracy: 0.6441\n",
            "Epoch 34/50\n",
            "50400/50400 [==============================] - 8s 156us/step - loss: 0.6293 - accuracy: 0.6450 - val_loss: 0.6323 - val_accuracy: 0.6468\n",
            "Epoch 35/50\n",
            "50400/50400 [==============================] - 8s 157us/step - loss: 0.6294 - accuracy: 0.6455 - val_loss: 0.6337 - val_accuracy: 0.6427\n",
            "Epoch 36/50\n",
            "50400/50400 [==============================] - 8s 156us/step - loss: 0.6293 - accuracy: 0.6461 - val_loss: 0.6319 - val_accuracy: 0.6434\n",
            "Epoch 37/50\n",
            "50400/50400 [==============================] - 8s 154us/step - loss: 0.6293 - accuracy: 0.6456 - val_loss: 0.6323 - val_accuracy: 0.6423\n",
            "Epoch 38/50\n",
            "50400/50400 [==============================] - 8s 155us/step - loss: 0.6290 - accuracy: 0.6467 - val_loss: 0.6325 - val_accuracy: 0.6402\n",
            "Epoch 39/50\n",
            "50400/50400 [==============================] - 8s 155us/step - loss: 0.6292 - accuracy: 0.6454 - val_loss: 0.6320 - val_accuracy: 0.6459\n",
            "Epoch 40/50\n",
            "50400/50400 [==============================] - 8s 155us/step - loss: 0.6289 - accuracy: 0.6454 - val_loss: 0.6321 - val_accuracy: 0.6432\n",
            "Epoch 41/50\n",
            "50400/50400 [==============================] - 8s 156us/step - loss: 0.6288 - accuracy: 0.6455 - val_loss: 0.6329 - val_accuracy: 0.6455\n",
            "Epoch 42/50\n",
            "50400/50400 [==============================] - 8s 156us/step - loss: 0.6288 - accuracy: 0.6444 - val_loss: 0.6318 - val_accuracy: 0.6463\n",
            "Epoch 43/50\n",
            "50400/50400 [==============================] - 8s 156us/step - loss: 0.6289 - accuracy: 0.6459 - val_loss: 0.6317 - val_accuracy: 0.6436\n",
            "Epoch 44/50\n",
            "50400/50400 [==============================] - 8s 155us/step - loss: 0.6288 - accuracy: 0.6452 - val_loss: 0.6321 - val_accuracy: 0.6470\n",
            "Epoch 45/50\n",
            "50400/50400 [==============================] - 8s 155us/step - loss: 0.6289 - accuracy: 0.6458 - val_loss: 0.6323 - val_accuracy: 0.6441\n",
            "Epoch 46/50\n",
            "50400/50400 [==============================] - 8s 156us/step - loss: 0.6289 - accuracy: 0.6451 - val_loss: 0.6319 - val_accuracy: 0.6454\n",
            "Epoch 47/50\n",
            "50400/50400 [==============================] - 8s 155us/step - loss: 0.6288 - accuracy: 0.6454 - val_loss: 0.6320 - val_accuracy: 0.6480\n",
            "Epoch 48/50\n",
            "50400/50400 [==============================] - 8s 160us/step - loss: 0.6286 - accuracy: 0.6451 - val_loss: 0.6324 - val_accuracy: 0.6463\n",
            "Epoch 49/50\n",
            "50400/50400 [==============================] - 8s 161us/step - loss: 0.6288 - accuracy: 0.6447 - val_loss: 0.6313 - val_accuracy: 0.6446\n",
            "Epoch 50/50\n",
            "50400/50400 [==============================] - 8s 156us/step - loss: 0.6286 - accuracy: 0.6454 - val_loss: 0.6322 - val_accuracy: 0.6477\n"
          ],
          "name": "stdout"
        }
      ]
    },
    {
      "cell_type": "code",
      "metadata": {
        "id": "hmVz2f6XLb5w",
        "colab": {
          "base_uri": "https://localhost:8080/",
          "height": 646
        },
        "outputId": "a29a75e2-4ff6-421d-a874-277cb3301fee"
      },
      "source": [
        "# Fitting the ANN with PCA to the Training set\n",
        "history = classifier.fit(X_trainP, y_train, batch_size = 28, epochs = 50, validation_split=0.1)"
      ],
      "execution_count": null,
      "outputs": [
        {
          "output_type": "stream",
          "text": [
            "Train on 50400 samples, validate on 5600 samples\n",
            "Epoch 1/50\n",
            "50400/50400 [==============================] - 8s 162us/step - loss: 0.6286 - accuracy: 0.6453 - val_loss: 0.6314 - val_accuracy: 0.6473\n",
            "Epoch 2/50\n",
            "50400/50400 [==============================] - 8s 162us/step - loss: 0.6286 - accuracy: 0.6451 - val_loss: 0.6313 - val_accuracy: 0.6484\n",
            "Epoch 3/50\n",
            "50400/50400 [==============================] - 8s 159us/step - loss: 0.6283 - accuracy: 0.6456 - val_loss: 0.6334 - val_accuracy: 0.6423\n",
            "Epoch 4/50\n",
            "50400/50400 [==============================] - 8s 156us/step - loss: 0.6286 - accuracy: 0.6454 - val_loss: 0.6317 - val_accuracy: 0.6486\n",
            "Epoch 5/50\n",
            "50400/50400 [==============================] - 8s 158us/step - loss: 0.6285 - accuracy: 0.6458 - val_loss: 0.6324 - val_accuracy: 0.6489\n",
            "Epoch 6/50\n",
            "50400/50400 [==============================] - 8s 158us/step - loss: 0.6286 - accuracy: 0.6454 - val_loss: 0.6311 - val_accuracy: 0.6461\n",
            "Epoch 7/50\n",
            "50400/50400 [==============================] - 8s 153us/step - loss: 0.6282 - accuracy: 0.6444 - val_loss: 0.6331 - val_accuracy: 0.6489\n",
            "Epoch 8/50\n",
            "50400/50400 [==============================] - 8s 155us/step - loss: 0.6284 - accuracy: 0.6460 - val_loss: 0.6320 - val_accuracy: 0.6479\n",
            "Epoch 9/50\n",
            "50400/50400 [==============================] - 8s 158us/step - loss: 0.6286 - accuracy: 0.6462 - val_loss: 0.6313 - val_accuracy: 0.6434\n",
            "Epoch 10/50\n",
            "50400/50400 [==============================] - 8s 157us/step - loss: 0.6285 - accuracy: 0.6460 - val_loss: 0.6312 - val_accuracy: 0.6459\n",
            "Epoch 11/50\n",
            "50400/50400 [==============================] - 8s 159us/step - loss: 0.6283 - accuracy: 0.6466 - val_loss: 0.6321 - val_accuracy: 0.6484\n",
            "Epoch 12/50\n",
            "50400/50400 [==============================] - 8s 163us/step - loss: 0.6284 - accuracy: 0.6450 - val_loss: 0.6310 - val_accuracy: 0.6445\n",
            "Epoch 13/50\n",
            "50400/50400 [==============================] - 8s 157us/step - loss: 0.6281 - accuracy: 0.6449 - val_loss: 0.6312 - val_accuracy: 0.6493\n",
            "Epoch 14/50\n",
            "50400/50400 [==============================] - 8s 155us/step - loss: 0.6284 - accuracy: 0.6461 - val_loss: 0.6334 - val_accuracy: 0.6463\n",
            "Epoch 15/50\n",
            "50400/50400 [==============================] - 8s 159us/step - loss: 0.6283 - accuracy: 0.6464 - val_loss: 0.6308 - val_accuracy: 0.6455\n",
            "Epoch 16/50\n",
            "50400/50400 [==============================] - 9s 173us/step - loss: 0.6283 - accuracy: 0.6448 - val_loss: 0.6318 - val_accuracy: 0.6496\n",
            "Epoch 17/50\n",
            "50400/50400 [==============================] - 8s 163us/step - loss: 0.6282 - accuracy: 0.6466 - val_loss: 0.6309 - val_accuracy: 0.6493\n",
            "Epoch 18/50\n",
            " 9884/50400 [====>.........................] - ETA: 6s - loss: 0.6262 - accuracy: 0.6485"
          ],
          "name": "stdout"
        }
      ]
    },
    {
      "cell_type": "markdown",
      "metadata": {
        "id": "twXoZ3H3G3fr"
      },
      "source": [
        "# Improving the Neural Network"
      ]
    },
    {
      "cell_type": "code",
      "metadata": {
        "id": "ue4j4dYPHo-q"
      },
      "source": [
        "from keras.layers import Dropout\n",
        "\n",
        "# Initialising the ANN\n",
        "classifier = Sequential()\n",
        "\n",
        "# Adding the input layer and the first hidden layer\n",
        "classifier.add(Dense(units = 10, kernel_initializer = 'uniform', activation = 'relu', input_dim = 13))\n",
        "classifier.add(Dropout(rate = 0.2))\n",
        "\n",
        "# Adding the second hidden layer\n",
        "classifier.add(Dense(units = 10, kernel_initializer = 'uniform', activation = 'relu'))\n",
        "classifier.add(Dropout(rate = 0.2))\n",
        "\n",
        "# Adding the third hidden layer\n",
        "classifier.add(Dense(units = 10, kernel_initializer = 'uniform', activation = 'relu'))\n",
        "\n",
        "\n",
        "# Adding the output layer\n",
        "classifier.add(Dense(units = 1, kernel_initializer = 'uniform', activation = 'sigmoid'))\n",
        "\n",
        "# Compiling the ANN\n",
        "classifier.compile(optimizer = 'adam', loss = 'binary_crossentropy', metrics = ['accuracy'])"
      ],
      "execution_count": null,
      "outputs": []
    },
    {
      "cell_type": "code",
      "metadata": {
        "id": "Hmwv5qsIOk_J",
        "colab": {
          "base_uri": "https://localhost:8080/",
          "height": 1000
        },
        "outputId": "fd7fdc43-4528-4914-a48f-a76eb99e571c"
      },
      "source": [
        "# Fitting the ANN to the Training set\n",
        "history = classifier.fit(X_train, y_train, batch_size = 28, epochs = 50, validation_split=0.1)"
      ],
      "execution_count": null,
      "outputs": [
        {
          "output_type": "stream",
          "text": [
            "Train on 50400 samples, validate on 5600 samples\n",
            "Epoch 1/50\n",
            "50400/50400 [==============================] - 9s 170us/step - loss: 0.6112 - accuracy: 0.6840 - val_loss: 0.5641 - val_accuracy: 0.7261\n",
            "Epoch 2/50\n",
            "50400/50400 [==============================] - 9s 170us/step - loss: 0.5794 - accuracy: 0.7210 - val_loss: 0.5579 - val_accuracy: 0.7304\n",
            "Epoch 3/50\n",
            "50400/50400 [==============================] - 8s 167us/step - loss: 0.5740 - accuracy: 0.7222 - val_loss: 0.5516 - val_accuracy: 0.7334\n",
            "Epoch 4/50\n",
            "50400/50400 [==============================] - 9s 169us/step - loss: 0.5710 - accuracy: 0.7238 - val_loss: 0.5537 - val_accuracy: 0.7298\n",
            "Epoch 5/50\n",
            "50400/50400 [==============================] - 8s 167us/step - loss: 0.5664 - accuracy: 0.7252 - val_loss: 0.5493 - val_accuracy: 0.7362\n",
            "Epoch 6/50\n",
            "50400/50400 [==============================] - 8s 163us/step - loss: 0.5643 - accuracy: 0.7247 - val_loss: 0.5488 - val_accuracy: 0.7309\n",
            "Epoch 7/50\n",
            "50400/50400 [==============================] - 8s 166us/step - loss: 0.5627 - accuracy: 0.7246 - val_loss: 0.5454 - val_accuracy: 0.7332\n",
            "Epoch 8/50\n",
            "50400/50400 [==============================] - 8s 168us/step - loss: 0.5615 - accuracy: 0.7250 - val_loss: 0.5466 - val_accuracy: 0.7321\n",
            "Epoch 9/50\n",
            "50400/50400 [==============================] - 8s 168us/step - loss: 0.5598 - accuracy: 0.7269 - val_loss: 0.5448 - val_accuracy: 0.7327\n",
            "Epoch 10/50\n",
            "50400/50400 [==============================] - 8s 161us/step - loss: 0.5561 - accuracy: 0.7281 - val_loss: 0.5459 - val_accuracy: 0.7354\n",
            "Epoch 11/50\n",
            "50400/50400 [==============================] - 8s 167us/step - loss: 0.5565 - accuracy: 0.7267 - val_loss: 0.5442 - val_accuracy: 0.7348\n",
            "Epoch 12/50\n",
            "50400/50400 [==============================] - 9s 172us/step - loss: 0.5564 - accuracy: 0.7256 - val_loss: 0.5461 - val_accuracy: 0.7323\n",
            "Epoch 13/50\n",
            "50400/50400 [==============================] - 8s 165us/step - loss: 0.5540 - accuracy: 0.7288 - val_loss: 0.5450 - val_accuracy: 0.7320\n",
            "Epoch 14/50\n",
            "50400/50400 [==============================] - 8s 165us/step - loss: 0.5554 - accuracy: 0.7258 - val_loss: 0.5455 - val_accuracy: 0.7307\n",
            "Epoch 15/50\n",
            "50400/50400 [==============================] - 8s 166us/step - loss: 0.5547 - accuracy: 0.7256 - val_loss: 0.5455 - val_accuracy: 0.7307\n",
            "Epoch 16/50\n",
            "50400/50400 [==============================] - 9s 171us/step - loss: 0.5536 - accuracy: 0.7300 - val_loss: 0.5433 - val_accuracy: 0.7330\n",
            "Epoch 17/50\n",
            "50400/50400 [==============================] - 9s 174us/step - loss: 0.5525 - accuracy: 0.7281 - val_loss: 0.5432 - val_accuracy: 0.7345\n",
            "Epoch 18/50\n",
            "50400/50400 [==============================] - 8s 161us/step - loss: 0.5528 - accuracy: 0.7296 - val_loss: 0.5430 - val_accuracy: 0.7355\n",
            "Epoch 19/50\n",
            "50400/50400 [==============================] - 9s 172us/step - loss: 0.5524 - accuracy: 0.7285 - val_loss: 0.5437 - val_accuracy: 0.7348\n",
            "Epoch 20/50\n",
            "50400/50400 [==============================] - 9s 174us/step - loss: 0.5521 - accuracy: 0.7291 - val_loss: 0.5438 - val_accuracy: 0.7332\n",
            "Epoch 21/50\n",
            "50400/50400 [==============================] - 8s 164us/step - loss: 0.5514 - accuracy: 0.7287 - val_loss: 0.5452 - val_accuracy: 0.7304\n",
            "Epoch 22/50\n",
            "50400/50400 [==============================] - 8s 160us/step - loss: 0.5518 - accuracy: 0.7303 - val_loss: 0.5440 - val_accuracy: 0.7332\n",
            "Epoch 23/50\n",
            "50400/50400 [==============================] - 8s 160us/step - loss: 0.5519 - accuracy: 0.7280 - val_loss: 0.5438 - val_accuracy: 0.7355\n",
            "Epoch 24/50\n",
            "50400/50400 [==============================] - 8s 165us/step - loss: 0.5511 - accuracy: 0.7295 - val_loss: 0.5435 - val_accuracy: 0.7329\n",
            "Epoch 25/50\n",
            "50400/50400 [==============================] - 8s 162us/step - loss: 0.5507 - accuracy: 0.7290 - val_loss: 0.5438 - val_accuracy: 0.7343\n",
            "Epoch 26/50\n",
            "50400/50400 [==============================] - 9s 170us/step - loss: 0.5504 - accuracy: 0.7285 - val_loss: 0.5444 - val_accuracy: 0.7323\n",
            "Epoch 27/50\n",
            "50400/50400 [==============================] - 8s 161us/step - loss: 0.5509 - accuracy: 0.7284 - val_loss: 0.5440 - val_accuracy: 0.7341\n",
            "Epoch 28/50\n",
            "50400/50400 [==============================] - 8s 163us/step - loss: 0.5501 - accuracy: 0.7301 - val_loss: 0.5424 - val_accuracy: 0.7341\n",
            "Epoch 29/50\n",
            "50400/50400 [==============================] - 9s 174us/step - loss: 0.5503 - accuracy: 0.7301 - val_loss: 0.5431 - val_accuracy: 0.7327\n",
            "Epoch 30/50\n",
            "50400/50400 [==============================] - 8s 168us/step - loss: 0.5514 - accuracy: 0.7301 - val_loss: 0.5453 - val_accuracy: 0.7320\n",
            "Epoch 31/50\n",
            "50400/50400 [==============================] - 9s 169us/step - loss: 0.5505 - accuracy: 0.7302 - val_loss: 0.5427 - val_accuracy: 0.7357\n",
            "Epoch 32/50\n",
            "50400/50400 [==============================] - 8s 163us/step - loss: 0.5498 - accuracy: 0.7292 - val_loss: 0.5422 - val_accuracy: 0.7368\n",
            "Epoch 33/50\n",
            "50400/50400 [==============================] - 9s 174us/step - loss: 0.5509 - accuracy: 0.7297 - val_loss: 0.5448 - val_accuracy: 0.7370\n",
            "Epoch 34/50\n",
            "50400/50400 [==============================] - 8s 164us/step - loss: 0.5510 - accuracy: 0.7310 - val_loss: 0.5422 - val_accuracy: 0.7373\n",
            "Epoch 35/50\n",
            "50400/50400 [==============================] - 8s 162us/step - loss: 0.5499 - accuracy: 0.7295 - val_loss: 0.5423 - val_accuracy: 0.7348\n",
            "Epoch 36/50\n",
            "50400/50400 [==============================] - 9s 177us/step - loss: 0.5499 - accuracy: 0.7306 - val_loss: 0.5422 - val_accuracy: 0.7350\n",
            "Epoch 37/50\n",
            "50400/50400 [==============================] - 8s 165us/step - loss: 0.5501 - accuracy: 0.7285 - val_loss: 0.5421 - val_accuracy: 0.7362\n",
            "Epoch 38/50\n",
            "50400/50400 [==============================] - 9s 172us/step - loss: 0.5504 - accuracy: 0.7304 - val_loss: 0.5433 - val_accuracy: 0.7343\n",
            "Epoch 39/50\n",
            "50400/50400 [==============================] - 9s 170us/step - loss: 0.5500 - accuracy: 0.7305 - val_loss: 0.5439 - val_accuracy: 0.7346\n",
            "Epoch 40/50\n",
            "50400/50400 [==============================] - 9s 172us/step - loss: 0.5498 - accuracy: 0.7299 - val_loss: 0.5439 - val_accuracy: 0.7355\n",
            "Epoch 41/50\n",
            "50400/50400 [==============================] - 8s 167us/step - loss: 0.5500 - accuracy: 0.7290 - val_loss: 0.5437 - val_accuracy: 0.7316\n",
            "Epoch 42/50\n",
            "50400/50400 [==============================] - 8s 163us/step - loss: 0.5500 - accuracy: 0.7308 - val_loss: 0.5415 - val_accuracy: 0.7364\n",
            "Epoch 43/50\n",
            "50400/50400 [==============================] - 8s 160us/step - loss: 0.5502 - accuracy: 0.7302 - val_loss: 0.5427 - val_accuracy: 0.7330\n",
            "Epoch 44/50\n",
            "50400/50400 [==============================] - 8s 159us/step - loss: 0.5487 - accuracy: 0.7323 - val_loss: 0.5413 - val_accuracy: 0.7350\n",
            "Epoch 45/50\n",
            "50400/50400 [==============================] - 9s 170us/step - loss: 0.5499 - accuracy: 0.7318 - val_loss: 0.5415 - val_accuracy: 0.7330\n",
            "Epoch 46/50\n",
            "50400/50400 [==============================] - 9s 173us/step - loss: 0.5494 - accuracy: 0.7323 - val_loss: 0.5421 - val_accuracy: 0.7361\n",
            "Epoch 47/50\n",
            "50400/50400 [==============================] - 8s 160us/step - loss: 0.5495 - accuracy: 0.7302 - val_loss: 0.5423 - val_accuracy: 0.7354\n",
            "Epoch 48/50\n",
            "50400/50400 [==============================] - 9s 177us/step - loss: 0.5505 - accuracy: 0.7288 - val_loss: 0.5428 - val_accuracy: 0.7352\n",
            "Epoch 49/50\n",
            "50400/50400 [==============================] - 8s 167us/step - loss: 0.5490 - accuracy: 0.7304 - val_loss: 0.5419 - val_accuracy: 0.7366\n",
            "Epoch 50/50\n",
            "50400/50400 [==============================] - 9s 171us/step - loss: 0.5494 - accuracy: 0.7297 - val_loss: 0.5426 - val_accuracy: 0.7354\n"
          ],
          "name": "stdout"
        }
      ]
    },
    {
      "cell_type": "code",
      "metadata": {
        "id": "ctMqSgdOU-wb",
        "colab": {
          "base_uri": "https://localhost:8080/",
          "height": 295
        },
        "outputId": "34a4956d-5a78-4279-a422-0fd098dfee8f"
      },
      "source": [
        "plt.plot(history.history['accuracy'])\n",
        "plt.plot(history.history['val_accuracy'])\n",
        "plt.title('Neural Network Accuracy')\n",
        "plt.ylabel('accuracy')\n",
        "plt.xlabel('epoch')\n",
        "plt.legend(['accuracy', 'val_accuracy'], loc = 'upper left')\n",
        "plt.show()"
      ],
      "execution_count": null,
      "outputs": [
        {
          "output_type": "display_data",
          "data": {
            "image/png": "[encoded data removed]",
            "text/plain": [
              "<Figure size 432x288 with 1 Axes>"
            ]
          },
          "metadata": {
            "tags": [],
            "needs_background": "light"
          }
        }
      ]
    }
  ]
}