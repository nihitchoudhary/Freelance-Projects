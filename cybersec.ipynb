{
  "nbformat": 4,
  "nbformat_minor": 0,
  "metadata": {
    "colab": {
      "name": "cybersec.ipynb",
      "provenance": [],
      "toc_visible": true,
      "authorship_tag": "ABX9TyPQ2sALL2aOA22d8MWdl07W",
      "include_colab_link": true
    },
    "kernelspec": {
      "name": "python3",
      "display_name": "Python 3"
    },
    "accelerator": "GPU"
  },
  "cells": [
    {
      "cell_type": "markdown",
      "metadata": {
        "id": "view-in-github",
        "colab_type": "text"
      },
      "source": [
        "<a href=\"https://colab.research.google.com/github/nihitchoudhary/Freelance-Projects/blob/Upwork-Machine-learning/cybersec.ipynb\" target=\"_parent\"><img src=\"https://colab.research.google.com/assets/colab-badge.svg\" alt=\"Open In Colab\"/></a>"
      ]
    },
    {
      "cell_type": "code",
      "metadata": {
        "id": "br8c6rfYvGKM",
        "colab_type": "code",
        "outputId": "f4927930-130a-4c0f-8366-a92e91b643ae",
        "colab": {
          "resources": {
            "http://localhost:8080/nbextensions/google.colab/files.js": {
              "data": "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",
              "ok": true,
              "headers": [
                [
                  "content-type",
                  "application/javascript"
                ]
              ],
              "status": 200,
              "status_text": ""
            }
          },
          "base_uri": "https://localhost:8080/",
          "height": 71
        }
      },
      "source": [
        "from google.colab import files\n",
        "\n",
        "uploaded = files.upload()"
      ],
      "execution_count": 0,
      "outputs": [
        {
          "output_type": "display_data",
          "data": {
            "text/html": [
              "\n",
              "     <input type=\"file\" id=\"files-2fc4709e-92c3-4893-9bc7-3df1706900c1\" name=\"files[]\" multiple disabled />\n",
              "     <output id=\"result-2fc4709e-92c3-4893-9bc7-3df1706900c1\">\n",
              "      Upload widget is only available when the cell has been executed in the\n",
              "      current browser session. Please rerun this cell to enable.\n",
              "      </output>\n",
              "      <script src=\"/nbextensions/google.colab/files.js\"></script> "
            ],
            "text/plain": [
              "<IPython.core.display.HTML object>"
            ]
          },
          "metadata": {
            "tags": []
          }
        },
        {
          "output_type": "stream",
          "text": [
            "Saving CyberSec.csv to CyberSec.csv\n"
          ],
          "name": "stdout"
        }
      ]
    },
    {
      "cell_type": "markdown",
      "metadata": {
        "id": "I5DPCHkld_sd",
        "colab_type": "text"
      },
      "source": [
        "# Importing the libraries"
      ]
    },
    {
      "cell_type": "code",
      "metadata": {
        "id": "jEVkHX39eBnp",
        "colab_type": "code",
        "colab": {}
      },
      "source": [
        "import pandas as pd\n",
        "import numpy as np"
      ],
      "execution_count": 0,
      "outputs": []
    },
    {
      "cell_type": "markdown",
      "metadata": {
        "id": "tJQD77_DeOas",
        "colab_type": "text"
      },
      "source": [
        "#importing the dataset"
      ]
    },
    {
      "cell_type": "code",
      "metadata": {
        "id": "iVmZ2ACWeFGm",
        "colab_type": "code",
        "colab": {}
      },
      "source": [
        "dataset = pd.read_csv('CyberSec.csv')\n",
        "X = dataset.iloc[:,[0,1,3,4,5,6]].values\n",
        "y = dataset.iloc[:,79].values\n"
      ],
      "execution_count": 0,
      "outputs": []
    },
    {
      "cell_type": "markdown",
      "metadata": {
        "id": "rDWMk4upeNs4",
        "colab_type": "text"
      },
      "source": [
        "#importing library to encode the categorical data"
      ]
    },
    {
      "cell_type": "code",
      "metadata": {
        "id": "kyKmWPZ-i_BD",
        "colab_type": "code",
        "colab": {}
      },
      "source": [
        "from sklearn.preprocessing import LabelEncoder, OneHotEncoder\n",
        "# Encoding the Dependent Variable\n",
        "labelencoder_y = LabelEncoder()\n",
        "y = labelencoder_y.fit_transform(y)\n"
      ],
      "execution_count": 0,
      "outputs": []
    },
    {
      "cell_type": "markdown",
      "metadata": {
        "id": "jOQ1Nw4zjJlV",
        "colab_type": "text"
      },
      "source": [
        "# Splitting the dataset into the Training set and Test set"
      ]
    },
    {
      "cell_type": "code",
      "metadata": {
        "id": "U67ighErjAxt",
        "colab_type": "code",
        "colab": {}
      },
      "source": [
        "from sklearn.model_selection import train_test_split\n",
        "X_train, X_test, y_train, y_test = train_test_split(X, y, test_size = 0.2, random_state = 0)"
      ],
      "execution_count": 0,
      "outputs": []
    },
    {
      "cell_type": "markdown",
      "metadata": {
        "id": "SyoKeRjAjTKt",
        "colab_type": "text"
      },
      "source": [
        "# Feature Scaling"
      ]
    },
    {
      "cell_type": "code",
      "metadata": {
        "id": "xYez20bdjOnC",
        "colab_type": "code",
        "colab": {}
      },
      "source": [
        "from sklearn.preprocessing import StandardScaler\n",
        "sc_X = StandardScaler()\n",
        "X_train = sc_X.fit_transform(X_train)\n",
        "X_test = sc_X.transform(X_test)"
      ],
      "execution_count": 0,
      "outputs": []
    },
    {
      "cell_type": "markdown",
      "metadata": {
        "id": "7mmxmMCpjm6D",
        "colab_type": "text"
      },
      "source": [
        "# Importing the Keras libraries and packages"
      ]
    },
    {
      "cell_type": "code",
      "metadata": {
        "id": "YO29_yJXjpow",
        "colab_type": "code",
        "outputId": "6275fcd0-81a5-439d-8eca-eb7d4e8765da",
        "colab": {
          "base_uri": "https://localhost:8080/",
          "height": 34
        }
      },
      "source": [
        "import keras\n",
        "from keras.models import Sequential\n",
        "from keras.layers import Dense"
      ],
      "execution_count": 0,
      "outputs": [
        {
          "output_type": "stream",
          "text": [
            "Using TensorFlow backend.\n"
          ],
          "name": "stderr"
        }
      ]
    },
    {
      "cell_type": "markdown",
      "metadata": {
        "id": "ECzIdlF8jwB8",
        "colab_type": "text"
      },
      "source": [
        "# Initialising the ANN"
      ]
    },
    {
      "cell_type": "code",
      "metadata": {
        "id": "WMedTcd4jsPc",
        "colab_type": "code",
        "colab": {}
      },
      "source": [
        "classifier = Sequential()"
      ],
      "execution_count": 0,
      "outputs": []
    },
    {
      "cell_type": "markdown",
      "metadata": {
        "id": "1nXpqS1Yj2mZ",
        "colab_type": "text"
      },
      "source": [
        "# Adding the input layer and the first hidden layer"
      ]
    },
    {
      "cell_type": "code",
      "metadata": {
        "id": "hHK3xC_uj1sM",
        "colab_type": "code",
        "colab": {}
      },
      "source": [
        "classifier.add(Dense(units = 6, kernel_initializer = 'uniform', activation = 'relu', input_dim = 6))"
      ],
      "execution_count": 0,
      "outputs": []
    },
    {
      "cell_type": "markdown",
      "metadata": {
        "id": "U6-ehZX6kAer",
        "colab_type": "text"
      },
      "source": [
        "# Adding the second hidden layer"
      ]
    },
    {
      "cell_type": "code",
      "metadata": {
        "id": "Zmw4PPmNj79k",
        "colab_type": "code",
        "colab": {}
      },
      "source": [
        "  classifier.add(Dense(units = 6, kernel_initializer = 'uniform', activation = 'relu'))"
      ],
      "execution_count": 0,
      "outputs": []
    },
    {
      "cell_type": "markdown",
      "metadata": {
        "id": "UHu9I1V_kGWg",
        "colab_type": "text"
      },
      "source": [
        "# Adding the output layer\n"
      ]
    },
    {
      "cell_type": "code",
      "metadata": {
        "id": "CEzcEaDrkDR1",
        "colab_type": "code",
        "colab": {}
      },
      "source": [
        "classifier.add(Dense(units = 1, kernel_initializer = 'uniform', activation = 'sigmoid'))"
      ],
      "execution_count": 0,
      "outputs": []
    },
    {
      "cell_type": "markdown",
      "metadata": {
        "id": "vG32UMjikKo_",
        "colab_type": "text"
      },
      "source": [
        "# Compiling the ANN"
      ]
    },
    {
      "cell_type": "code",
      "metadata": {
        "id": "3SGJEL-OkJvz",
        "colab_type": "code",
        "colab": {}
      },
      "source": [
        "classifier.compile(optimizer = 'adam', loss = 'binary_crossentropy', metrics = ['accuracy'])"
      ],
      "execution_count": 0,
      "outputs": []
    },
    {
      "cell_type": "markdown",
      "metadata": {
        "id": "e85y8wV4kQQX",
        "colab_type": "text"
      },
      "source": [
        "# Fitting the ANN to the Training set"
      ]
    },
    {
      "cell_type": "code",
      "metadata": {
        "id": "-GL3pf-6kOXC",
        "colab_type": "code",
        "outputId": "09ffeb42-e64f-40b5-80bd-6142bf1e5447",
        "colab": {
          "base_uri": "https://localhost:8080/",
          "height": 1000
        }
      },
      "source": [
        "classifier.fit(X_train, y_train, batch_size = 5, epochs = 100)"
      ],
      "execution_count": 0,
      "outputs": [
        {
          "output_type": "stream",
          "text": [
            "Epoch 1/100\n",
            "240/240 [==============================] - 2s 8ms/step - loss: 0.6932 - accuracy: 0.4875\n",
            "Epoch 2/100\n",
            "240/240 [==============================] - 0s 815us/step - loss: 0.6910 - accuracy: 0.9000\n",
            "Epoch 3/100\n",
            "240/240 [==============================] - 0s 886us/step - loss: 0.6642 - accuracy: 0.9958\n",
            "Epoch 4/100\n",
            "240/240 [==============================] - 0s 797us/step - loss: 0.5642 - accuracy: 0.9958\n",
            "Epoch 5/100\n",
            "240/240 [==============================] - 0s 853us/step - loss: 0.4094 - accuracy: 0.9958\n",
            "Epoch 6/100\n",
            "240/240 [==============================] - 0s 866us/step - loss: 0.2792 - accuracy: 0.9958\n",
            "Epoch 7/100\n",
            "240/240 [==============================] - 0s 804us/step - loss: 0.1759 - accuracy: 0.9958\n",
            "Epoch 8/100\n",
            "240/240 [==============================] - 0s 830us/step - loss: 0.0995 - accuracy: 0.9958\n",
            "Epoch 9/100\n",
            "240/240 [==============================] - 0s 803us/step - loss: 0.0607 - accuracy: 0.9958\n",
            "Epoch 10/100\n",
            "240/240 [==============================] - 0s 828us/step - loss: 0.0423 - accuracy: 0.9958\n",
            "Epoch 11/100\n",
            "240/240 [==============================] - 0s 845us/step - loss: 0.0346 - accuracy: 0.9958\n",
            "Epoch 12/100\n",
            "240/240 [==============================] - 0s 795us/step - loss: 0.0308 - accuracy: 0.9958\n",
            "Epoch 13/100\n",
            "240/240 [==============================] - 0s 855us/step - loss: 0.0285 - accuracy: 0.9958\n",
            "Epoch 14/100\n",
            "240/240 [==============================] - 0s 808us/step - loss: 0.0273 - accuracy: 0.9958\n",
            "Epoch 15/100\n",
            "240/240 [==============================] - 0s 840us/step - loss: 0.0266 - accuracy: 0.9958\n",
            "Epoch 16/100\n",
            "240/240 [==============================] - 0s 840us/step - loss: 0.0260 - accuracy: 0.9958\n",
            "Epoch 17/100\n",
            "240/240 [==============================] - 0s 825us/step - loss: 0.0257 - accuracy: 0.9958\n",
            "Epoch 18/100\n",
            "240/240 [==============================] - 0s 828us/step - loss: 0.0254 - accuracy: 0.9958\n",
            "Epoch 19/100\n",
            "240/240 [==============================] - 0s 917us/step - loss: 0.0253 - accuracy: 0.9958\n",
            "Epoch 20/100\n",
            "240/240 [==============================] - 0s 855us/step - loss: 0.0252 - accuracy: 0.9958\n",
            "Epoch 21/100\n",
            "240/240 [==============================] - 0s 853us/step - loss: 0.0250 - accuracy: 0.9958\n",
            "Epoch 22/100\n",
            "240/240 [==============================] - 0s 791us/step - loss: 0.0249 - accuracy: 0.9958\n",
            "Epoch 23/100\n",
            "240/240 [==============================] - 0s 855us/step - loss: 0.0249 - accuracy: 0.9958\n",
            "Epoch 24/100\n",
            "240/240 [==============================] - 0s 797us/step - loss: 0.0249 - accuracy: 0.9958\n",
            "Epoch 25/100\n",
            "240/240 [==============================] - 0s 820us/step - loss: 0.0248 - accuracy: 0.9958\n",
            "Epoch 26/100\n",
            "240/240 [==============================] - 0s 901us/step - loss: 0.0248 - accuracy: 0.9958\n",
            "Epoch 27/100\n",
            "240/240 [==============================] - 0s 860us/step - loss: 0.0247 - accuracy: 0.9958\n",
            "Epoch 28/100\n",
            "240/240 [==============================] - 0s 949us/step - loss: 0.0247 - accuracy: 0.9958\n",
            "Epoch 29/100\n",
            "240/240 [==============================] - 0s 965us/step - loss: 0.0247 - accuracy: 0.9958\n",
            "Epoch 30/100\n",
            "240/240 [==============================] - 0s 854us/step - loss: 0.0247 - accuracy: 0.9958\n",
            "Epoch 31/100\n",
            "240/240 [==============================] - 0s 878us/step - loss: 0.0246 - accuracy: 0.9958\n",
            "Epoch 32/100\n",
            "240/240 [==============================] - 0s 910us/step - loss: 0.0247 - accuracy: 0.9958\n",
            "Epoch 33/100\n",
            "240/240 [==============================] - 0s 876us/step - loss: 0.0245 - accuracy: 0.9958\n",
            "Epoch 34/100\n",
            "240/240 [==============================] - 0s 874us/step - loss: 0.0246 - accuracy: 0.9958\n",
            "Epoch 35/100\n",
            "240/240 [==============================] - 0s 859us/step - loss: 0.0247 - accuracy: 0.9958\n",
            "Epoch 36/100\n",
            "240/240 [==============================] - 0s 864us/step - loss: 0.0247 - accuracy: 0.9958\n",
            "Epoch 37/100\n",
            "240/240 [==============================] - 0s 880us/step - loss: 0.0245 - accuracy: 0.9958\n",
            "Epoch 38/100\n",
            "240/240 [==============================] - 0s 855us/step - loss: 0.0246 - accuracy: 0.9958\n",
            "Epoch 39/100\n",
            "240/240 [==============================] - 0s 857us/step - loss: 0.0244 - accuracy: 0.9958\n",
            "Epoch 40/100\n",
            "240/240 [==============================] - 0s 890us/step - loss: 0.0245 - accuracy: 0.9958\n",
            "Epoch 41/100\n",
            "240/240 [==============================] - 0s 866us/step - loss: 0.0246 - accuracy: 0.9958\n",
            "Epoch 42/100\n",
            "240/240 [==============================] - 0s 886us/step - loss: 0.0244 - accuracy: 0.9958\n",
            "Epoch 43/100\n",
            "240/240 [==============================] - 0s 937us/step - loss: 0.0246 - accuracy: 0.9958\n",
            "Epoch 44/100\n",
            "240/240 [==============================] - 0s 853us/step - loss: 0.0244 - accuracy: 0.9958\n",
            "Epoch 45/100\n",
            "240/240 [==============================] - 0s 906us/step - loss: 0.0244 - accuracy: 0.9958\n",
            "Epoch 46/100\n",
            "240/240 [==============================] - 0s 866us/step - loss: 0.0244 - accuracy: 0.9958\n",
            "Epoch 47/100\n",
            "240/240 [==============================] - 0s 886us/step - loss: 0.0244 - accuracy: 0.9958\n",
            "Epoch 48/100\n",
            "240/240 [==============================] - 0s 856us/step - loss: 0.0244 - accuracy: 0.9958\n",
            "Epoch 49/100\n",
            "240/240 [==============================] - 0s 846us/step - loss: 0.0244 - accuracy: 0.9958\n",
            "Epoch 50/100\n",
            "240/240 [==============================] - 0s 871us/step - loss: 0.0244 - accuracy: 0.9958\n",
            "Epoch 51/100\n",
            "240/240 [==============================] - 0s 832us/step - loss: 0.0244 - accuracy: 0.9958\n",
            "Epoch 52/100\n",
            "240/240 [==============================] - 0s 805us/step - loss: 0.0243 - accuracy: 0.9958\n",
            "Epoch 53/100\n",
            "240/240 [==============================] - 0s 823us/step - loss: 0.0245 - accuracy: 0.9958\n",
            "Epoch 54/100\n",
            "240/240 [==============================] - 0s 805us/step - loss: 0.0243 - accuracy: 0.9958\n",
            "Epoch 55/100\n",
            "240/240 [==============================] - 0s 860us/step - loss: 0.0244 - accuracy: 0.9958\n",
            "Epoch 56/100\n",
            "240/240 [==============================] - 0s 835us/step - loss: 0.0243 - accuracy: 0.9958\n",
            "Epoch 57/100\n",
            "240/240 [==============================] - 0s 788us/step - loss: 0.0243 - accuracy: 0.9958\n",
            "Epoch 58/100\n",
            "240/240 [==============================] - 0s 815us/step - loss: 0.0243 - accuracy: 0.9958\n",
            "Epoch 59/100\n",
            "240/240 [==============================] - 0s 848us/step - loss: 0.0243 - accuracy: 0.9958\n",
            "Epoch 60/100\n",
            "240/240 [==============================] - 0s 866us/step - loss: 0.0243 - accuracy: 0.9958\n",
            "Epoch 61/100\n",
            "240/240 [==============================] - 0s 850us/step - loss: 0.0243 - accuracy: 0.9958\n",
            "Epoch 62/100\n",
            "240/240 [==============================] - 0s 778us/step - loss: 0.0243 - accuracy: 0.9958\n",
            "Epoch 63/100\n",
            "240/240 [==============================] - 0s 763us/step - loss: 0.0243 - accuracy: 0.9958\n",
            "Epoch 64/100\n",
            "240/240 [==============================] - 0s 764us/step - loss: 0.0244 - accuracy: 0.9958\n",
            "Epoch 65/100\n",
            "240/240 [==============================] - 0s 803us/step - loss: 0.0243 - accuracy: 0.9958\n",
            "Epoch 66/100\n",
            "240/240 [==============================] - 0s 749us/step - loss: 0.0243 - accuracy: 0.9958\n",
            "Epoch 67/100\n",
            "240/240 [==============================] - 0s 776us/step - loss: 0.0243 - accuracy: 0.9958\n",
            "Epoch 68/100\n",
            "240/240 [==============================] - 0s 769us/step - loss: 0.0243 - accuracy: 0.9958\n",
            "Epoch 69/100\n",
            "240/240 [==============================] - 0s 788us/step - loss: 0.0243 - accuracy: 0.9958\n",
            "Epoch 70/100\n",
            "240/240 [==============================] - 0s 785us/step - loss: 0.0242 - accuracy: 0.9958\n",
            "Epoch 71/100\n",
            "240/240 [==============================] - 0s 837us/step - loss: 0.0243 - accuracy: 0.9958\n",
            "Epoch 72/100\n",
            "240/240 [==============================] - 0s 787us/step - loss: 0.0242 - accuracy: 0.9958\n",
            "Epoch 73/100\n",
            "240/240 [==============================] - 0s 772us/step - loss: 0.0243 - accuracy: 0.9958\n",
            "Epoch 74/100\n",
            "240/240 [==============================] - 0s 823us/step - loss: 0.0243 - accuracy: 0.9958\n",
            "Epoch 75/100\n",
            "240/240 [==============================] - 0s 803us/step - loss: 0.0242 - accuracy: 0.9958\n",
            "Epoch 76/100\n",
            "240/240 [==============================] - 0s 920us/step - loss: 0.0242 - accuracy: 0.9958\n",
            "Epoch 77/100\n",
            "240/240 [==============================] - 0s 843us/step - loss: 0.0243 - accuracy: 0.9958\n",
            "Epoch 78/100\n",
            "240/240 [==============================] - 0s 814us/step - loss: 0.0242 - accuracy: 0.9958\n",
            "Epoch 79/100\n",
            "240/240 [==============================] - 0s 877us/step - loss: 0.0243 - accuracy: 0.9958\n",
            "Epoch 80/100\n",
            "240/240 [==============================] - 0s 811us/step - loss: 0.0242 - accuracy: 0.9958\n",
            "Epoch 81/100\n",
            "240/240 [==============================] - 0s 892us/step - loss: 0.0242 - accuracy: 0.9958\n",
            "Epoch 82/100\n",
            "240/240 [==============================] - 0s 821us/step - loss: 0.0242 - accuracy: 0.9958\n",
            "Epoch 83/100\n",
            "240/240 [==============================] - 0s 789us/step - loss: 0.0242 - accuracy: 0.9958\n",
            "Epoch 84/100\n",
            "240/240 [==============================] - 0s 788us/step - loss: 0.0243 - accuracy: 0.9958\n",
            "Epoch 85/100\n",
            "240/240 [==============================] - 0s 770us/step - loss: 0.0242 - accuracy: 0.9958\n",
            "Epoch 86/100\n",
            "240/240 [==============================] - 0s 820us/step - loss: 0.0242 - accuracy: 0.9958\n",
            "Epoch 87/100\n",
            "240/240 [==============================] - 0s 801us/step - loss: 0.0243 - accuracy: 0.9958\n",
            "Epoch 88/100\n",
            "240/240 [==============================] - 0s 847us/step - loss: 0.0244 - accuracy: 0.9958\n",
            "Epoch 89/100\n",
            "240/240 [==============================] - 0s 792us/step - loss: 0.0241 - accuracy: 0.9958\n",
            "Epoch 90/100\n",
            "240/240 [==============================] - 0s 782us/step - loss: 0.0241 - accuracy: 0.9958\n",
            "Epoch 91/100\n",
            "240/240 [==============================] - 0s 823us/step - loss: 0.0241 - accuracy: 0.9958\n",
            "Epoch 92/100\n",
            "240/240 [==============================] - 0s 836us/step - loss: 0.0242 - accuracy: 0.9958\n",
            "Epoch 93/100\n",
            "240/240 [==============================] - 0s 840us/step - loss: 0.0241 - accuracy: 0.9958\n",
            "Epoch 94/100\n",
            "240/240 [==============================] - 0s 832us/step - loss: 0.0241 - accuracy: 0.9958\n",
            "Epoch 95/100\n",
            "240/240 [==============================] - 0s 795us/step - loss: 0.0241 - accuracy: 0.9958\n",
            "Epoch 96/100\n",
            "240/240 [==============================] - 0s 832us/step - loss: 0.0241 - accuracy: 0.9958\n",
            "Epoch 97/100\n",
            "240/240 [==============================] - 0s 815us/step - loss: 0.0242 - accuracy: 0.9958\n",
            "Epoch 98/100\n",
            "240/240 [==============================] - 0s 841us/step - loss: 0.0241 - accuracy: 0.9958\n",
            "Epoch 99/100\n",
            "240/240 [==============================] - 0s 810us/step - loss: 0.0241 - accuracy: 0.9958\n",
            "Epoch 100/100\n",
            "240/240 [==============================] - 0s 799us/step - loss: 0.0241 - accuracy: 0.9958\n"
          ],
          "name": "stdout"
        },
        {
          "output_type": "execute_result",
          "data": {
            "text/plain": [
              "<keras.callbacks.callbacks.History at 0x7f37a020e908>"
            ]
          },
          "metadata": {
            "tags": []
          },
          "execution_count": 14
        }
      ]
    },
    {
      "cell_type": "markdown",
      "metadata": {
        "id": "10e31bFg92cX",
        "colab_type": "text"
      },
      "source": [
        "# Predicting the Test set results"
      ]
    },
    {
      "cell_type": "code",
      "metadata": {
        "id": "mcK7nuXckSaB",
        "colab_type": "code",
        "colab": {}
      },
      "source": [
        "y_pred = classifier.predict(X_test)\n",
        "y_pred = (y_pred > 0.5)"
      ],
      "execution_count": 0,
      "outputs": []
    },
    {
      "cell_type": "markdown",
      "metadata": {
        "id": "YkhaaswL97Bx",
        "colab_type": "text"
      },
      "source": [
        "# Making the Confusion Matrix"
      ]
    },
    {
      "cell_type": "code",
      "metadata": {
        "id": "4o2S0VVunHKX",
        "colab_type": "code",
        "colab": {}
      },
      "source": [
        "from sklearn.metrics import confusion_matrix\n",
        "cm = confusion_matrix(y_test, y_pred)"
      ],
      "execution_count": 0,
      "outputs": []
    },
    {
      "cell_type": "code",
      "metadata": {
        "id": "R8X7yDfWyRpG",
        "colab_type": "code",
        "outputId": "b513c719-a747-47fc-9714-5dfb24e1bfee",
        "colab": {
          "base_uri": "https://localhost:8080/",
          "height": 51
        }
      },
      "source": [
        "cm"
      ],
      "execution_count": 0,
      "outputs": [
        {
          "output_type": "execute_result",
          "data": {
            "text/plain": [
              "array([[32,  1],\n",
              "       [ 1, 26]])"
            ]
          },
          "metadata": {
            "tags": []
          },
          "execution_count": 19
        }
      ]
    },
    {
      "cell_type": "code",
      "metadata": {
        "id": "JX3HllEI-WAs",
        "colab_type": "code",
        "colab": {}
      },
      "source": [
        ""
      ],
      "execution_count": 0,
      "outputs": []
    }
  ]
}